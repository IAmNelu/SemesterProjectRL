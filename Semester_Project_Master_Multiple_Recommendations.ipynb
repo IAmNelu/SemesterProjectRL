{
  "nbformat": 4,
  "nbformat_minor": 0,
  "metadata": {
    "colab": {
      "name": "Semester Project Master-Multiple Recommendations.ipynb",
      "provenance": [],
      "collapsed_sections": [],
      "toc_visible": true
    },
    "kernelspec": {
      "name": "python3",
      "display_name": "Python 3"
    }
  },
  "cells": [
    {
      "cell_type": "markdown",
      "metadata": {
        "id": "y6X9gMDAwHT1"
      },
      "source": [
        "# Semester Project\n"
      ]
    },
    {
      "cell_type": "markdown",
      "metadata": {
        "id": "wuj8CjenGxHH"
      },
      "source": [
        "## Imports\n"
      ]
    },
    {
      "cell_type": "code",
      "metadata": {
        "id": "FYmxVVuP3ncD"
      },
      "source": [
        "from mpl_toolkits.axes_grid1 import make_axes_locatable\n",
        "from collections import deque, namedtuple\n",
        "from IPython.display import clear_output\n",
        "from matplotlib import colors\n",
        "from scipy.io import loadmat\n",
        "from tqdm import tqdm\n",
        "from decimal import Decimal\n",
        "\n",
        "import matplotlib.pyplot as plt\n",
        "import matplotlib.cm as cm\n",
        "\n",
        "import pandas as pd\n",
        "import numpy as np\n",
        "\n",
        "\n",
        "import random\n",
        "import pickle\n",
        "import copy\n",
        "import time\n",
        "import math\n",
        "from itertools import combinations\n"
      ],
      "execution_count": null,
      "outputs": []
    },
    {
      "cell_type": "markdown",
      "metadata": {
        "id": "h8Uo5YYuHPaJ"
      },
      "source": [
        "## Utility Functions"
      ]
    },
    {
      "cell_type": "markdown",
      "metadata": {
        "id": "1VRCLRRzHSHS"
      },
      "source": [
        "### Init Functions\n"
      ]
    },
    {
      "cell_type": "code",
      "metadata": {
        "id": "KuH5RNcCHYgJ"
      },
      "source": [
        "def creation_u(n_states) :\n",
        "    # Creates a matrix u of related content\n",
        "    u = np.array([ [random.uniform(0,1) for i in range(n_states)] for j in range(n_states)])\n",
        "    np.fill_diagonal(u, 0)\n",
        "    return np.array(u)\n",
        "\n",
        "def creation_caching(n_states, n_cached) :\n",
        "    # Returns a list which contains the cost to get a content\n",
        "    # It contains only 0 (cached) or 1 (non-cached)\n",
        "    # Create cost of 1 and then set n of them to 0 randomly\n",
        "    cost = np.ones((n_states,), dtype=int) \n",
        "    cost[random.sample(range(0, n_states), n_cached)] = 0\n",
        "    return cost\n",
        "\n",
        "def create_priori_popularity(n_states, uniform=True, start=0, end=-1) :\n",
        "    \"\"\"\n",
        "    It creates a list of probability to get the content\n",
        "    This is p_0 = [ p_0, ..., p_K-1]\n",
        "    The sum should be one\n",
        "    \"\"\"\n",
        "    #start, end used to restrict choice in a subset of items (simulation of genres)\n",
        "    if end == -1:\n",
        "      end=n_states\n",
        "    size = end-start\n",
        "    result=[]\n",
        "    if uniform:\n",
        "      result = np.hstack((np.hstack(([0 for i in range(0,start)], [1/size for i in range(start, end)])),[0 for i in range(end, n_states)]))\n",
        "    else:\n",
        "      result = np.hstack((np.hstack(([0 for i in range(0,start)], [random.random() for i in range(start, end)])),[0 for i in range(end, n_states)]))\n",
        "      sum_r = np.sum(result)\n",
        "      result = result/sum_r\n",
        "    \"\"\"\n",
        "    OLD VERSION\n",
        "    if uniform : \n",
        "        result = (1/n_states) * np.ones((1,n_states))[0]\n",
        "    else :\n",
        "        result = [random.random() for i in range(1,n_states)]\n",
        "        sum_r = np.sum(result)\n",
        "        result = [i/sum_r for i in result]\n",
        "        result = np.array(result)\n",
        "    return result\n",
        "    \"\"\"\n",
        "    return result\n",
        "\n",
        "def get_random_state(p0) :\n",
        "    \"\"\" \n",
        "    Returns a random content among the contents\n",
        "    \"\"\"\n",
        "    # too complicated with -> return random.randint(0, len(p0))\n",
        "    state = [i for i in range(len(p0))]\n",
        "    return np.random.choice(state,1,p=p0)[0]\n",
        "\n",
        "\n",
        "def get_recommended(state, n_recommended, u) :\n",
        "    \"\"\"\n",
        "    Returns the n_recommended content of the content 'state'\n",
        "    For the moment we only return the most related contents\n",
        "    \"\"\"\n",
        "    liste = u[state]\n",
        "    not_null = len(np.where(liste != 0)[0])\n",
        "    indx = (-liste).argsort()[:min(not_null, n_recommended)]\n",
        "    return np.array(indx)\n",
        "\n",
        "def get_cached(state, cost):\n",
        "    \"\"\"\n",
        "    Takes as input a state and the cost matrix (where Xi = 0 if cached and 1 if not-cached)\n",
        "    Returns a boolean which says whether or not it is cached or not\n",
        "    \"\"\"\n",
        "    return cost[state] == 0\n",
        "\n",
        "\n",
        "def running_mean(x, N): # controll if needed\n",
        "    \"\"\"\n",
        "    Compute the running mean of size N\n",
        "    \"\"\" \n",
        "    mask=np.ones((1,N))/N\n",
        "    mask=mask[0,:]\n",
        "    result = np.convolve(x,mask,'same')\n",
        "    return result\n",
        "\n",
        "\n",
        "\n",
        "def get_matrix_rewards(env) :\n",
        "    # Compute the reward for each state and action\n",
        "    q_table = np.zeros((env.n_states,env.n_actions))\n",
        "    index_cached = np.where(env.get_index_cached() == 0)[0]\n",
        "    index_recommended = env.get_index_recommendation()\n",
        "    q_table[:,index_cached] += 1\n",
        "    for index,x in enumerate(index_recommended) :\n",
        "        q_table[index, x] +=1\n",
        "\n",
        "    return q_table\n",
        "\n",
        "\n",
        "def get_q_table_gamma(gamma_q_tables, gammas) :\n",
        "    liste_title = ['Gamma = {:.2f}'.format(i) for i in gammas]\n",
        "    plot_multiple(gamma_q_tables,4,3, \"Actions\", \"States\",\\\n",
        "                           \"Q table for different values of gamma\" ,\\\n",
        "                       liste_titles= liste_title,sizes = (10,10))\n",
        "\n",
        "def running_mean(x, N):\n",
        "  \"\"\"\n",
        "  Return the running mean of an array\n",
        "  \"\"\"\n",
        "  cumsum = np.cumsum(np.insert(x, 0, 0)) \n",
        "  return (cumsum[N:] - cumsum[:-N]) / N"
      ],
      "execution_count": null,
      "outputs": []
    },
    {
      "cell_type": "markdown",
      "metadata": {
        "id": "Dv9nukacHVWs"
      },
      "source": [
        "### Plotting Functions"
      ]
    },
    {
      "cell_type": "code",
      "metadata": {
        "id": "t3lmq6j2Oskw"
      },
      "source": [
        "def plot_notated_matrix(matrix, title='Correlation Matrix', x_label=None, y_label=None, save_to_png=False, \n",
        "                 color_range='viridis', fig_size=(5, 5), lim=0.7, rotation_x=0, size_number=10):\n",
        "    \"\"\"\n",
        "    Print a matrix and return the figure, axis and colorbar\n",
        "    \"\"\"\n",
        "        \n",
        "    fig, ax = plt.subplots(figsize=fig_size)\n",
        "    im = ax.imshow(matrix, cmap=color_range)\n",
        "  \n",
        "    #Set names and grid\n",
        "    size = matrix.shape[0]\n",
        "    col_names = [c for c in range(size)]\n",
        "    ax.set_xticks(np.arange(size))\n",
        "    ax.set_yticks(np.arange(size))\n",
        "    ax.set_xticklabels(col_names, rotation=rotation_x)\n",
        "    ax.set_yticklabels(col_names)\n",
        "    ax.grid(which=\"minor\", color=\"w\", linestyle='-', linewidth=1)\n",
        "    ax.grid(False)\n",
        "    ax.tick_params(which=\"minor\", bottom=False, left=False)\n",
        "    ax.set_xlabel(x_label)\n",
        "    ax.set_ylabel(x_label)\n",
        "    # Remove edges\n",
        "    for edge, spine in ax.spines.items():\n",
        "        spine.set_visible(False)\n",
        "  \n",
        "    #Add Values\n",
        "    for i in range(size):\n",
        "        for j in range(size):\n",
        "            if matrix[i, j] > lim:\n",
        "                col = 'black'\n",
        "            else:\n",
        "                col = 'w'\n",
        "        \n",
        "            text = ax.text(j, i, f'{matrix[i, j]:.2f}',\n",
        "                                ha=\"center\", va=\"center\", color=col, fontsize=size_number)\n",
        "        \n",
        "    ax.set_title(title)\n",
        "\n",
        "    #Color Bar\n",
        "    cb = fig.colorbar(cm.ScalarMappable(norm=None, cmap=color_range), ax=ax, fraction=0.046, pad=0.04)\n",
        "    cb.mappable.set_clim((int(np.min(matrix)), math.ceil(np.max(matrix))))\n",
        "    \n",
        "    fig.tight_layout()\n",
        "    if save_to_png:\n",
        "        plt.savefig(f\"{title}.png\", dpi=240)\n",
        "    else:\n",
        "        plt.show()\n",
        "    \n",
        "    return fig, ax, cb"
      ],
      "execution_count": null,
      "outputs": []
    },
    {
      "cell_type": "markdown",
      "metadata": {
        "id": "b2IT2m9PzBqv"
      },
      "source": [
        "\n",
        "## Define the Plot functions and the ones used for initialisation\n",
        "\n",
        "\n",
        "TO BE REFACTORED\n",
        "\n",
        "plot_q_table() is now a function of the QLearningTable class"
      ]
    },
    {
      "cell_type": "code",
      "metadata": {
        "id": "b-EmfOP7yT5c"
      },
      "source": [
        "def plot_multiple(matrices,Nr,Nc, x_label, y_label,title, liste_titles,sizes = (12,12), cmap = 'viridis') :\n",
        "    fig, axs = plt.subplots(Nr, Nc, figsize=sizes)\n",
        "    fig.suptitle(title)\n",
        "\n",
        "    images = []\n",
        "    \n",
        "    axs = axs.reshape(-1,1)\n",
        "    \n",
        "    for k,ax in enumerate(axs) : \n",
        "        images.append(ax[0].imshow(matrices[k], cmap=cmap))\n",
        "        ax[0].label_outer()\n",
        "        ax[0].set_xlabel(x_label)\n",
        "        ax[0].set_ylabel(y_label)\n",
        "        ax[0].set_title(liste_titles[k], fontsize = 12)\n",
        "            \n",
        "\n",
        "    vmin = 0\n",
        "    vmax = 2\n",
        "    norm = colors.Normalize(vmin=vmin, vmax=vmax)\n",
        "    for im in images:\n",
        "        im.set_norm(norm)\n",
        "\n",
        "    fig.colorbar(images[0], ax=axs, orientation='horizontal', fraction=.05)\n",
        "    plt.show()\n",
        "\n",
        "def get_final_table(q_table, binary = True) :\n",
        "    # Retuns the final recommendation which is the policy\n",
        "    indexes_max = get_max_q_table(q_table)\n",
        "    final_table = np.zeros(q_table.shape)\n",
        "    for index,x in enumerate(indexes_max) :\n",
        "        for y in x:\n",
        "            if binary :\n",
        "                final_table[index,y ] = 1\n",
        "            else :\n",
        "                final_table[index,y ] = q_table[index,y ]\n",
        "\n",
        "\n",
        "    return final_table\n",
        "\n",
        "\n",
        "    \n",
        "def compare_algo(env, q_table, policy, cmap, name=None ) :\n",
        "    \n",
        "    final_table = get_final_table(q_table, binary = True)\n",
        "    \n",
        "    \n",
        "    to_plot = [policy,final_table, get_matrix_rewards(env),\\\n",
        "              policy + final_table]\n",
        "    titles = [\"Policy with paper algorithm\",\"Policy with RL algorithm\", 'Reward matrix','Sum of two policies']\n",
        "    plot_multiple(to_plot, 2,2, \"Actions\", \"States\",\"\", titles,sizes = (8,8), cmap=cmap)\n",
        "    similarity = np.where(policy + final_table == 2 )[0].shape[0]/ q_table.shape[0]\n",
        "    print(\"Similarity between Paper algorithm and RL algorithm : {}\".format(similarity))\n",
        "    \n",
        "    \n",
        "    \n",
        "def get_max_q_table(q_table) :\n",
        "    # Returns a list of indexes of the max of the q_table\n",
        "    liste_index = []\n",
        "    for i in range(q_table.shape[0]) :\n",
        "        maxm = np.max(q_table[i])\n",
        "        indexes = np.where(q_table[i] == maxm)[0]\n",
        "        liste_index.append(indexes)\n",
        "\n",
        "    return liste_index\n",
        "\n",
        "def plot_reward_loss_gamma(\n",
        "    reward,\n",
        "    run_mean = 10, \n",
        "    gammas = [0,0.9],\n",
        "    name='Rewards'\n",
        "    ) :\n",
        "    \n",
        "    \"\"\"\n",
        "    Plot the reward for different gamam values\n",
        "\n",
        "    ....\n",
        "\n",
        "    Parameters\n",
        "    -----------\n",
        "      Reward : list of rewards\n",
        "      Gammas : list of gammas used\n",
        "      Run_mean : size of the window to average\n",
        "    \"\"\"\n",
        "\n",
        "    colors = ['r','b', 'g', 'p']\n",
        "    \n",
        "    for index, gamma in enumerate(gammas) : \n",
        "        \n",
        "        smoothed_rews = running_mean(reward[index], run_mean)\n",
        "        \n",
        "        \n",
        "        plt.xlabel('Epochs')\n",
        "        plt.ylabel(name)\n",
        "        plt.plot(smoothed_rews, color=colors[index],\\\n",
        "                label = r'$\\gamma$ = {}, running mean : {}'.format(gamma,run_mean))\n",
        "        \n",
        "        \n",
        "    plt.legend()\n",
        "    plt.title('{} for different values of $\\gamma$'.format(name))\n",
        "    plt.grid(True)\n",
        "    plt.show()\n",
        "        \n",
        "\n",
        "\n"
      ],
      "execution_count": null,
      "outputs": []
    },
    {
      "cell_type": "markdown",
      "metadata": {
        "id": "QniLnfknzs70"
      },
      "source": [
        "## The Environment\n",
        "\n",
        "methods set for single param recommended"
      ]
    },
    {
      "cell_type": "code",
      "metadata": {
        "id": "1om-ww9Ezc-m"
      },
      "source": [
        "class Environment(object) :\n",
        "    # Creates an environmnent\n",
        "    # For us, this is the behavior of the User\n",
        "    #2 types of user -> random -> alpha is coefficient to choose recommended content\n",
        "    #                   qualityAware -> aplha is the quality threshold for accepting the recommended content\n",
        "    def __init__(self,n_actions,  n_states, alpha, to_leave, n_recommended, n_cached,\\\n",
        "                rewards,SEED=5, u=None, user_type='random', choice_offset_start=0, choice_offset_end=-1) :\n",
        "        self.SEED = SEED\n",
        "        self.n_states = n_states\n",
        "        self.n_actions = n_actions\n",
        "        self.alpha = alpha\n",
        "        # Alpha is the coefficient in which a user chooses a recommended content\n",
        "        self.to_leave = to_leave\n",
        "        # to_leave is the coefficient in which a user decides to quit the process\n",
        "        self.n_recommended = n_recommended\n",
        "        # n_recommend corresponds to the number of content to recommend. HERE, WE DON'T USE IT YET\n",
        "        self.n_cached = n_cached\n",
        "        # n_cached correponds to the number of cached content\n",
        "        self.u = creation_u(self.n_states) if u is None else u  \n",
        "        # U matrix which denotes the similarity score\n",
        "        self.cost = creation_caching(self.n_states, self.n_cached)\n",
        "        # It denotes the cached content (0 if cached, 1 not-cached)\n",
        "        if choice_offset_end == -1:\n",
        "          self.choice_offset_end=n_states\n",
        "        else:\n",
        "          self.choice_offset_end=choice_offset_end\n",
        "        self.choice_offset_start = choice_offset_start\n",
        "        self.p0 = create_priori_popularity(self.n_states, start=self.choice_offset_start, end=self.choice_offset_end)\n",
        "        # The probability to choose content j from the catalogue\n",
        "        self.rewards = rewards\n",
        "        # List of rewards like [RC, RnC , nRC, nRnC]\n",
        "        # RC = Recommended & Cached ; nRnC = non Recommended & non Cached\n",
        "        self.recommended = self.get_index_recommendation()\n",
        "        #set user_type\n",
        "        self.user_type = user_type\n",
        "        \n",
        "        \n",
        "    def refresh(self,SEED = None) :\n",
        "        # Reset the state to a new value\n",
        "        if SEED is not None :\n",
        "            self.SEED = SEED\n",
        "        return random.randrange(0,self.n_states,1)\n",
        "    \n",
        "    def reset(self) :\n",
        "        # Reset the environment to a new random state. \n",
        "        #It resets both the recommendation and the cached indexes\n",
        "        # It returns a first state\n",
        "        self.u = creation_u(self.n_states)\n",
        "        self.cached = creation_caching(self.n_states, self.n_cached)\n",
        "        self.p0 = create_priori_popularity(self.n_states)\n",
        "    \n",
        "        return self.state[random.randrange(0,self.n_states,1)]\n",
        "\n",
        "    \n",
        "    \n",
        "    def find_reward(self, state, next_state) :\n",
        "        '''\n",
        "        Get the current and the next state. \n",
        "\n",
        "        If the cost of the next state is 0 i.e it is not cached, \n",
        "        then reward is 1 if the state is in recommended matrix, otherwise 0. \n",
        "\n",
        "        If the state is cached only, then th reward is 1.\n",
        "\n",
        "        If the state is both cached and recommended, then the reward is 2 .\n",
        "        '''\n",
        "        if ((state is None) or (next_state is None) ):\n",
        "            return None \n",
        "\n",
        "        recommended_matrix = self.recommended[state]\n",
        "        \n",
        "        is_cached = get_cached (next_state, self.cost)\n",
        "\n",
        "        if ( (next_state in recommended_matrix) and (is_cached)) :\n",
        "            return self.rewards[0]\n",
        "        elif ( (next_state in recommended_matrix) and ( not is_cached) ) :\n",
        "            return self.rewards[1]\n",
        "        elif ( (next_state not in recommended_matrix ) and (is_cached)) :\n",
        "            return self.rewards[2]\n",
        "        else :\n",
        "            return self.rewards[3]\n",
        "\n",
        "    \n",
        "    #action is list of actions suggested\n",
        "    def step(self, action, state) :\n",
        "        ''' \n",
        "        Returns the state, reward after taking the action in input\n",
        "        done is a boolean to say whether the user quits the game or not\n",
        "        We want to return the state where will be the user when we suggest him \"action\"\n",
        "        Knowing he is in the current 'state'\n",
        "        '''\n",
        "        \n",
        "        if (random.uniform(0, 1) < self.to_leave) :\n",
        "            # If the user stops to play -> he reward is 0 and the next state is \n",
        "            \n",
        "            # reward = self.fin_reward(action, state)\n",
        "            new_state, reward, done = None, 0 , True\n",
        "            \n",
        "            return new_state,reward, done\n",
        "        else :\n",
        "            # Else the user will choose among the contents\n",
        "            if (self.user_type == 'random'):\n",
        "                #random user -> probability alpha to follow reccommendation, but check that action != state\n",
        "                if (random.uniform(0,1)< self.alpha and state not in action) :\n",
        "\n",
        "                    # Get the new state randomly \n",
        "                    new_state = random.choice(action)\n",
        "                    \n",
        "                    # Get the  reward based on transition to the new state, from the current state\n",
        "                    reward = self.find_reward(state, new_state)\n",
        "                \n",
        "                else :\n",
        "                    # The user picks a content randomly in the catalogue\n",
        "                    new_state = get_random_state(self.p0)\n",
        "                    \n",
        "                    #check to avoid self loop for multiple states \n",
        "                    while(new_state == state):\n",
        "                        new_state = get_random_state(self.p0)\n",
        "                    \n",
        "                    reward = self.find_reward(state, new_state)\n",
        "\n",
        "            elif (self.user_type == 'subset_interested'):\n",
        "                actions_approved = list(i for i in action if i >= self.choice_offset_start and i < self.choice_offset_end)\n",
        "                \n",
        "                if (len(actions_approved) >0 and random.uniform(0,1)< self.alpha and state not in action) :\n",
        "                    # Get the new state randomly \n",
        "                    new_state = random.choice(actions_approved)\n",
        "                    \n",
        "                    # Get the  reward based on transition to the new state, from the current state\n",
        "                    reward = self.find_reward(state, new_state)\n",
        "                \n",
        "                else :\n",
        "                    # The user picks a content randomly in the catalogue\n",
        "                    new_state = get_random_state(self.p0)\n",
        "                    \n",
        "                    #check to avoid self loop for multiple states \n",
        "                    while(new_state == state):\n",
        "                        new_state = get_random_state(self.p0)\n",
        "                    \n",
        "                    reward = self.find_reward(state, new_state)\n",
        "\n",
        "\n",
        "            elif (self.user_type == 'qualityAware'):\n",
        "                #check if item proposed is valuable, then accept it if over a threshold\n",
        "                # if more reccomandations, use the mean\n",
        "                if (np.mean(self.u[state,action[:]])>self.alpha):\n",
        "                    #here check for self-loop not required, qtable with 0 as diagonal\n",
        "                    #by now still random choice among reccomendations\n",
        "                    new_state = random.choice(action)\n",
        "                    reward = self.find_reward(action,state)\n",
        "                else :\n",
        "                    # The user picks a content randomly in the catalogue\n",
        "                    new_state = get_random_state(self.p0)\n",
        "                    while(new_state == state ):\n",
        "                        #check to avoid self loop\n",
        "                        new_state = get_random_state(self.p0)\n",
        "                    reward = self.find_reward(action,state)\n",
        "            done = False\n",
        "\n",
        "        if (state in action) :\n",
        "            #try until action != state\n",
        "            return self.step(action, state)\n",
        "        else :\n",
        "            return new_state, reward, done\n",
        "    \n",
        "    def get_index_recommendation(self) :\n",
        "        # Returns a matrix with all index of recommended content\n",
        "        recommended = []\n",
        "        for state in range(self.n_actions) :\n",
        "            recommended.append(get_recommended(state,self.n_recommended,self.u))\n",
        "        return recommended\n",
        "    \n",
        "    def get_index_cached(self) :\n",
        "        \n",
        "        return self.cost\n",
        "    \n"
      ],
      "execution_count": null,
      "outputs": []
    },
    {
      "cell_type": "markdown",
      "metadata": {
        "id": "qrmPZsELdtAL"
      },
      "source": [
        "## Starting algorithm"
      ]
    },
    {
      "cell_type": "markdown",
      "metadata": {
        "id": "kLcq4YAJzdHx"
      },
      "source": [
        "### Update Fuction\n"
      ]
    },
    {
      "cell_type": "code",
      "metadata": {
        "id": "O4jPYPySzdcg"
      },
      "source": [
        "def update(env, agent, max_iter = 1000, threshold = 0.1, v1=True, eps_decay=False):\n",
        "    \"\"\"\n",
        "    \n",
        "    ...\n",
        "    \n",
        "    Parameters\n",
        "    ---------\n",
        "    env: Environment\n",
        "    agent: Agent\n",
        "    max_iter: int, max number of episodes\n",
        "    threshold: float, minimum difference to stop algorithm\n",
        "    v1: bool, Variable to set selection from recommendation slate\n",
        "\n",
        "    Returns\n",
        "    -------\n",
        "    time_train: time to execute the method\n",
        "    episodes: total number of episodes runned \n",
        "    steps: steps performed for each episode\n",
        "    costs: differences of errors between two episodes\n",
        "    all_rewards: Accumulated Rewards \n",
        "    all_penalties: Accumulated penalties, defined as negative rewards\n",
        "    \n",
        "    \"\"\"\n",
        "    \n",
        "    # Reward_Threshold = 0\n",
        "    # Reward_Delta = 0.25 \n",
        "    \n",
        "    # Number of steps per episode\n",
        "    steps = []\n",
        "    \n",
        "    # Max error of all episodes\n",
        "    costs = []\n",
        "    \n",
        "    max_diff = threshold + 1\n",
        "    episodes = 0\n",
        "        \n",
        "    before_time = time.time()\n",
        "    \n",
        "    all_rewards = []\n",
        "    all_penalties = []\n",
        "    all_frequencies = np.zeros(agent.n_states)\n",
        "\n",
        "    \n",
        "    while( (episodes < max_iter) and (max_diff > threshold)) :\n",
        "        \n",
        "        # We copy the first step of the table to compare at the end\n",
        "        old_q_table = copy.copy(agent.q_table)\n",
        "        \n",
        "        # Initialize the state\n",
        "        state = env.refresh()\n",
        "        i = 0\n",
        "        \n",
        "        done = False\n",
        "        \n",
        "        # Teacker for rewards and penalties\n",
        "        current_reward = 0\n",
        "        current_penalty = 0\n",
        "        \n",
        "        while not done:\n",
        "            # The agent takes an action\n",
        "            if v1:\n",
        "                action = agent.choose_action(state)\n",
        "            else:\n",
        "                action = agent.choose_rec_action(env, state)\n",
        "            \n",
        "            next_state, reward, done = env.step(action, state)\n",
        "            \n",
        "            if ( (next_state is None) or (action is None)  ) :\n",
        "                # We stop when the user leaves the process\n",
        "                break\n",
        "            #increase frequency of state\n",
        "            all_frequencies[next_state] += 1\n",
        "            # reward = np.mean(reward)\n",
        "\n",
        "            # RL learns from this transition\n",
        "            agent.learn(state, action, reward, next_state)\n",
        "\n",
        "            # Go to the next state\n",
        "            state = next_state\n",
        "            \n",
        "            # Calculating number of Steps in the current Episode\n",
        "            i += 1\n",
        "            \n",
        "            # Append the Reward\n",
        "            current_reward += reward\n",
        "            \n",
        "            # Define the penalty for negative rewards\n",
        "            if reward == env.rewards[-1] : \n",
        "                current_penalty +=1\n",
        "            \n",
        "        steps += [i]\n",
        "        episodes += 1\n",
        "        \n",
        "        cost = (agent.q_table - old_q_table).max()\n",
        "        \n",
        "        costs.append(cost)\n",
        "        \n",
        "        \n",
        "        # Append the rewards and Penalties\n",
        "        if i != 0:\n",
        "          all_penalties.append(current_penalty/i)\n",
        "          all_rewards.append(current_reward/i)\n",
        "        \n",
        "        # Decay epsilon \n",
        "        if eps_decay:\n",
        "          agent.decay_epsilon(episodes)\n",
        "          # Reward_Threshold += Reward_Delta\n",
        "        \n",
        "        # Update the max_diff every 1000 episodes\n",
        "        if episodes%1000 == 0 :\n",
        "            max_diff =  np.mean(costs[episodes-1000:episodes]) \n",
        "        \n",
        "        if episodes%1000 == 0 :\n",
        "            print('Episodes : ', episodes, \" / \", max_iter)\n",
        "            clear_output(True)\n",
        "        \n",
        "    time_train =  time.time() - before_time\n",
        "\n",
        "    return time_train, episodes, steps, costs, all_rewards, all_penalties, all_frequencies"
      ],
      "execution_count": null,
      "outputs": []
    },
    {
      "cell_type": "markdown",
      "metadata": {
        "id": "wZaZNSXgz6PV"
      },
      "source": [
        "### Starting Agent"
      ]
    },
    {
      "cell_type": "code",
      "metadata": {
        "id": "2L5yS026z6fz"
      },
      "source": [
        "class Agent:\n",
        "    \"\"\" \n",
        "    ...\n",
        "\n",
        "    Attributes\n",
        "    ----------\n",
        "    n_actions: int\n",
        "        number of possible actions\n",
        "    n_states: int\n",
        "        number of possible states\n",
        "    q_table: array([n_states, n_actions])\n",
        "        array containing values for all states-action pair\n",
        "    alpha : float\n",
        "        learning_rate, determines to what extent newly acquired information overrides old information\n",
        "    gamma : float\n",
        "        discount_factor, determines the importance of future rewards\n",
        "    eps : float\n",
        "        probability of exploitation instead of exploration\n",
        "        \n",
        "    N : int \n",
        "        Number of slate recommendations per State \n",
        "\n",
        "    start_decay : int \n",
        "        Episode on which decay should start \n",
        "    \n",
        "    end_decay : int \n",
        "        episode till which should continue\n",
        "\n",
        "    epsilon_decay_value : float \n",
        "        Value by which epsilon should be decayed every episode\n",
        "\n",
        "    eps_min : float \n",
        "        lower bound on the epsilon value\n",
        "\n",
        "    T : int\n",
        "        Temperature\n",
        "\n",
        "    T_min : float \n",
        "        Extremely small value of T for lower bound \n",
        "      \n",
        "    T_decay_value : float \n",
        "        Value by which T should be decayed every episode\n",
        "\n",
        "    Methods\n",
        "    -------\n",
        "    choose_action(state)\n",
        "        Choose next action with an epsilon-greedy policy\n",
        "        \n",
        "    choose_action_rec(state, env )\n",
        "        Choose next action from recommendations with an epsilon-greedy policy\n",
        "    \n",
        "    learn_T(state, action, reward, next_state)\n",
        "        The Q update is done by the Frequency-based method\n",
        "\n",
        "    learn(state, action, reward, next_state)\n",
        "        Update the q_table\n",
        "    \n",
        "    get_H(state)\n",
        "        Calculates the Frequency sum factor used by learn_T\n",
        "\n",
        "    denominator(state)\n",
        "        Calculates the denominator term for frequency calculation\n",
        "\n",
        "    plot_q_table()\n",
        "        Plot q table heatmap\n",
        "        \n",
        "    decay_epsilon(episode)\n",
        "        decay the epsilon value based on defined attributes\n",
        "\n",
        "    decay_T(episode)\n",
        "        decay the Temperature based on defined attributes\n",
        "\n",
        "    \"\"\"\n",
        "    \n",
        "    def __init__(self, n_states, n_actions, alpha=0.9, gamma=0.9, eps=0.9, max_iter=50000):\n",
        "        self.n_actions = n_actions\n",
        "        self.n_states = n_states\n",
        "        self.q_table = np.zeros([env.n_states, env.n_actions])\n",
        "        self.alpha = alpha\n",
        "        self.gamma = gamma\n",
        "        self.eps = eps\n",
        "        \n",
        "        # Epsilon Decay parameters \n",
        "        self.start_decay = 1\n",
        "        self.end_decay = max_iter\n",
        "        self.epsilon_decay_value = self.eps/np.abs(self.end_decay - self.start_decay)\n",
        "        self.eps_min = 1e-4\n",
        "        \n",
        "        \n",
        "    def choose_action(self, state):\n",
        "        \"\"\"\n",
        "        Parameters\n",
        "        ----------\n",
        "        state : int, current state of the environment\n",
        "        Returns\n",
        "        -------\n",
        "        action: int, action taken given the current state and an e-greedy policy\n",
        "        \n",
        "        \"\"\"\n",
        "        action = []\n",
        "        \n",
        "        if random.uniform(0, 1) < self.eps:\n",
        "          # Explore action space\n",
        "          a = random.randint(0, self.n_actions-1)\n",
        "          while a == state:\n",
        "            a = random.randint(0, self.n_actions-1)\n",
        "          action.append(a)  \n",
        "        else:\n",
        "          # Exploit learned values\n",
        "          action.append(np.argsort(self.q_table[state])[-1])\n",
        "        \n",
        "\n",
        "        return np.array(action)\n",
        "\n",
        "        \n",
        "\n",
        "       \n",
        "\n",
        "    def choose_rec_action(self, env, state):\n",
        "        action = []\n",
        "        if random.uniform(0, 1) < self.eps:\n",
        "          # Get the recommended slate, and then Randomly select one of the recommendations\n",
        "          recommended_contents =  env.recommended[state]\n",
        "          index_state = random.randrange(0, len(recommended_contents), 1)\n",
        "          action.append(recommended_contents[index_state])          \n",
        "        else :\n",
        "        # Exploit learned values\n",
        "          action.append(np.argmax(self.q_table[state]))\n",
        "              \n",
        "        return action\n",
        "    \n",
        "    def learn(self, state, action, reward, next_state):\n",
        "        \"\"\"\n",
        "        Update the q_table\n",
        "        \n",
        "        ...\n",
        "        \n",
        "        Parameters\n",
        "        ----------\n",
        "        state: int, current state of the environment\n",
        "        action: int, action taken\n",
        "        reward: float, reward obtained given state-action\n",
        "        next_state: int, next_state of the environment\n",
        "        \"\"\"\n",
        "        for a in action:\n",
        "            old_value = self.q_table[state, a]\n",
        "            next_max = np.max(self.q_table[next_state])\n",
        "\n",
        "            new_value = (1 - self.alpha)* old_value + self.alpha * (reward + self.gamma * next_max)\n",
        "            self.q_table[state,a] = new_value\n",
        "        \n",
        "        return\n",
        "    \n",
        "    # Printing the Q-table with states\n",
        "    def plot_q_table(self, notated=False, **kwargs):\n",
        "        \"\"\"\n",
        "        Plot q table heatmap\n",
        "        \n",
        "        ...\n",
        "        \"\"\"\n",
        "        if notated:\n",
        "            _,_,_ = plot_notated_matrix(self.q_table,x_label=\"Actions\", y_label=\"States\", title=\"Q table\", **kwargs)\n",
        "\n",
        "        else:\n",
        "            ax = plt.subplot(111)\n",
        "            im = ax.imshow(self.q_table)\n",
        "\n",
        "            divider = make_axes_locatable(ax)\n",
        "            cax = divider.append_axes(\"right\", size=\"5%\", pad=0.05)\n",
        "            plt.ylabel(\"States\")\n",
        "            plt.xlabel(\"Actions\")\n",
        "            plt.title(\"Q table\")\n",
        "            plt.colorbar(im, cax=cax)\n",
        "\n",
        "            plt.show()\n",
        "    \n",
        "    def decay_epsilon(self, episode):\n",
        "        \"\"\"\n",
        "        Decaying is being done every episode if episode number is \n",
        "        within decaying range\n",
        "        \"\"\"\n",
        "        if self.eps >= self.eps_min :\n",
        "            self.eps -= self.epsilon_decay_value\n",
        "        else:\n",
        "            # To prevent negative values and still maintain exploration at a minimum \n",
        "            self.eps = self.eps_min\n",
        "        return \n",
        "    "
      ],
      "execution_count": null,
      "outputs": []
    },
    {
      "cell_type": "markdown",
      "metadata": {
        "id": "7Yl6E-5QejfI"
      },
      "source": [
        "## Multiple recommendation with F table"
      ]
    },
    {
      "cell_type": "markdown",
      "metadata": {
        "id": "9Ay5rGNBE6DR"
      },
      "source": [
        "### Update_T : Frequency Based"
      ]
    },
    {
      "cell_type": "code",
      "metadata": {
        "id": "v9JBDhFLE0pz"
      },
      "source": [
        "def update_T(env, agent, max_iter = 1000, threshold = 0.1, \n",
        "             v1=True, temp_decay=True, eps_decay=False):\n",
        "    \"\"\"\n",
        "    ...\n",
        "    \n",
        "    Parameters\n",
        "    ---------\n",
        "    env: Environment\n",
        "    agent: Agent\n",
        "    max_iter: int, max number of episodes\n",
        "    threshold: float, minimum difference to stop algorithm\n",
        "    v1: bool, Variable to set selection from recommendation slate\n",
        "\n",
        "    Returns\n",
        "    -------\n",
        "    time_train: time to execute the method\n",
        "    episodes: total number of episodes runned \n",
        "    steps: steps performed for each episode\n",
        "    costs: differences of errors between two episodes\n",
        "    all_rewards: Accumulated Rewards \n",
        "    all_penalties: Accumulated penalties, defined as negative rewards\n",
        "    \n",
        "    \"\"\"\n",
        "    \n",
        "    # Reward_Threshold = 0\n",
        "    # Reward_Delta = 0.25\n",
        "    \n",
        "    # Number of steps per episode\n",
        "    steps = []\n",
        "    \n",
        "    # Max error of all episodes\n",
        "    costs = []\n",
        "    \n",
        "    max_diff = threshold + 1\n",
        "    episodes = 0\n",
        "        \n",
        "    before_time = time.time()\n",
        "    \n",
        "    all_rewards = []\n",
        "    all_penalties = []\n",
        "    all_frequencies = np.zeros(agent.n_states)\n",
        "    \n",
        "    while( (episodes < max_iter) and (max_diff > threshold)) :\n",
        "        \n",
        "        # We copy the first step of the table to compare at the end\n",
        "        old_q_table = copy.copy(agent.q_table)\n",
        "        \n",
        "        # Initialize the state\n",
        "        state = env.refresh()\n",
        "        i = 0\n",
        "        \n",
        "        done = False\n",
        "        \n",
        "        # Teacker for rewards and penalties\n",
        "        current_reward = 0\n",
        "        current_penalty = 0\n",
        "        \n",
        "        while not done:\n",
        "            # The agent takes an action\n",
        "            if v1:\n",
        "                action = agent.choose_action(state)\n",
        "            else:\n",
        "                action = agent.choose_rec_action(env, state)\n",
        "            \n",
        "            next_state, reward, done = env.step(action, state)\n",
        "            \n",
        "            if ( (next_state is None) or (action is None)  ) :\n",
        "                # We stop when the user leaves the process\n",
        "                break\n",
        "            \n",
        "            #increase frequency of state\n",
        "            all_frequencies[state] += 1\n",
        "\n",
        "            # RL learns from this transition\n",
        "            agent.learn_T(state, action, reward, next_state, episodes)\n",
        "\n",
        "            # Go to the next state\n",
        "            state = next_state\n",
        "            \n",
        "            # Calculating number of Steps in the current Episode\n",
        "            i += 1\n",
        "            \n",
        "            # Append the Reward\n",
        "            current_reward += reward           \n",
        "            # Define the penalty for negative rewards\n",
        "            if reward == env.rewards[-1]: \n",
        "                current_penalty +=1\n",
        "            \n",
        "        steps += [i]\n",
        "        episodes += 1\n",
        "        \n",
        "        cost = (agent.q_table - old_q_table).max()\n",
        "        \n",
        "        costs.append(cost)\n",
        "        \n",
        "        \n",
        "        # Append the rewards and Penalties\n",
        "        if i != 0:\n",
        "          all_penalties.append(current_penalty/i)\n",
        "          all_rewards.append(current_reward/i)\n",
        "        \n",
        "        # Decay epsilon \n",
        "        if eps_decay:\n",
        "          agent.decay_epsilon(episodes)\n",
        "          # Reward_Threshold += Reward_Delta\n",
        "        \n",
        "        # Decay Temperature\n",
        "        if episodes < 20_000 and temp_decay:\n",
        "        # if temp_decay:\n",
        "          agent.decay_T(episodes)\n",
        "        \n",
        "        # Update the max_diff every 1000 episodes\n",
        "        if episodes%1000 == 0 :\n",
        "            max_diff =  np.mean(costs[episodes-1000:episodes]) \n",
        "        \n",
        "        if episodes%1000 == 0 :\n",
        "            print('Episodes : ', episodes, \" / \", max_iter)\n",
        "            clear_output(True)\n",
        "        \n",
        "    time_train =  time.time() - before_time\n",
        "\n",
        "    return time_train, episodes, steps, costs, all_rewards, all_penalties, all_frequencies\n"
      ],
      "execution_count": null,
      "outputs": []
    },
    {
      "cell_type": "markdown",
      "metadata": {
        "id": "f1UdWw_nevY-"
      },
      "source": [
        "### ALGO-QF Agent"
      ]
    },
    {
      "cell_type": "code",
      "metadata": {
        "id": "g9juKoBFez7A"
      },
      "source": [
        "class Agent_Multiple:\n",
        "    \"\"\" \n",
        "    ...\n",
        "\n",
        "    Attributes\n",
        "    ----------\n",
        "    n_actions: int\n",
        "        number of possible actions\n",
        "    n_states: int\n",
        "        number of possible states\n",
        "    q_table: array([n_states, n_actions])\n",
        "        array containing values for all states-action pair\n",
        "    alpha : float\n",
        "        learning_rate, determines to what extent newly acquired information overrides old information\n",
        "    gamma : float\n",
        "        discount_factor, determines the importance of future rewards\n",
        "    eps : float\n",
        "        probability of exploitation instead of exploration\n",
        "        \n",
        "    N : int \n",
        "        Number of slate recommendations per State \n",
        "\n",
        "    start_decay : int \n",
        "        Episode on which decay should start \n",
        "    \n",
        "    end_decay : int \n",
        "        episode till which should continue\n",
        "\n",
        "    epsilon_decay_value : float \n",
        "        Value by which epsilon should be decayed every episode\n",
        "\n",
        "    eps_min : float \n",
        "        lower bound on the epsilon value\n",
        "\n",
        "    T : int\n",
        "        Temperature\n",
        "\n",
        "    T_min : float \n",
        "        Extremely small value of T for lower bound \n",
        "      \n",
        "    T_decay_value : float \n",
        "        Value by which T should be decayed every episode\n",
        "\n",
        "    Methods\n",
        "    -------\n",
        "    choose_action(state)\n",
        "        Choose next action with an epsilon-greedy policy\n",
        "        \n",
        "    choose_action_rec(state, env )\n",
        "        Choose next action from recommendations with an epsilon-greedy policy\n",
        "    \n",
        "    learn_T(state, action, reward, next_state)\n",
        "        The Q update is done by the Frequency-based method\n",
        "\n",
        "    learn(state, action, reward, next_state)\n",
        "        Update the q_table\n",
        "    \n",
        "    get_H(state)\n",
        "        Calculates the Frequency sum factor used by learn_T\n",
        "\n",
        "    denominator(state)\n",
        "        Calculates the denominator term for frequency calculation\n",
        "\n",
        "    plot_q_table()\n",
        "        Plot q table heatmap\n",
        "        \n",
        "    decay_epsilon(episode)\n",
        "        decay the epsilon value based on defined attributes\n",
        "\n",
        "    decay_T(episode)\n",
        "        decay the Temperature based on defined attributes\n",
        "\n",
        "    \"\"\"\n",
        "    \n",
        "    def __init__(self, n_states, n_actions, alpha=0.9, gamma=0.9, \n",
        "                 eps=0.9, max_iter=50000, n_recommended=5, end_decay=None,\n",
        "                 temperature=100, delta=0.9, custom=False, useMax=False, eps_threshold=None):\n",
        "        self.custom=custom\n",
        "        self.n_actions = n_actions\n",
        "        self.n_states = n_states\n",
        "        self.q_table = np.zeros([n_states, n_actions])\n",
        "        #initialize F table (alle cells have value 1/K)\n",
        "        self.f_table = (1/n_states)*np.ones([n_states, n_actions]) \n",
        "        self.alpha = alpha\n",
        "        self.gamma = gamma\n",
        "        self.eps = eps\n",
        "        self.N = n_recommended\n",
        "\n",
        "        self.eps_threshold=eps_threshold\n",
        "\n",
        "\n",
        "        self.useMax = useMax   \n",
        "\n",
        "        self.last_f_update = np.zeros([n_states])      \n",
        "        \n",
        "        #TODO name it better\n",
        "        self.flag=True\n",
        "\n",
        "        # Epsilon Decay parameters \n",
        "        self.start_decay = 1\n",
        "        \n",
        "        if end_decay is not None: \n",
        "          self.end_decay = end_decay\n",
        "        else:\n",
        "          self.end_decay = max_iter\n",
        "      \n",
        "        self.epsilon_decay_value = self.eps/np.abs(self.end_decay - self.start_decay)\n",
        "        self.eps_min = 1e-6\n",
        "        \n",
        "        # Temperature Settings\n",
        "        \n",
        "        self.T = temperature     # Tunable starting temperature\n",
        "        self.T_min = 1e-6\n",
        "        self.T_decay_val = self.T/np.abs(self.end_decay - self.start_decay)\n",
        "        \n",
        "        # New temprature thins \n",
        "        self.T_0 = temperature\n",
        "        self.delta = delta\n",
        "        self.f=0\n",
        "\n",
        "    def choose_action(self, state):\n",
        "        \"\"\"\n",
        "        Parameters\n",
        "        ----------\n",
        "        state : int, current state of the environment\n",
        "        Returns\n",
        "        -------\n",
        "        action: int, action taken given the current state and an e-greedy policy\n",
        "        \n",
        "        \"\"\"\n",
        "\n",
        "        actions = [] \n",
        "\n",
        "        \n",
        "        if random.uniform(0,1) < self.eps:\n",
        "          for i in range(self.N):\n",
        "            a=random.randint(0, self.n_actions-1)\n",
        "            while(a==state or a in actions):\n",
        "              a=random.randint(0, self.n_actions-1)\n",
        "            actions.append(a)\n",
        "        else:\n",
        "            actions = np.argsort(self.q_table[state])[-self.N:]\n",
        "\n",
        "        return np.array(actions)\n",
        "\n",
        "       \n",
        "\n",
        "    def choose_rec_action(self, env, state):\n",
        "\n",
        "        actions = []\n",
        "        if random.uniform(0, 1) < self.eps:\n",
        "                # Get the recommended slate, and then Randomly select one of the recommendations\n",
        "          recommended_contents =  env.recommended[state]\n",
        "          for i in range(self.N):\n",
        "            if i < len(recommended_contents):\n",
        "              #choose among the recommended randomly\n",
        "              index_state = random.randrange(0, len(recommended_contents), 1)\n",
        "              a = recommended_contents[index_state]\n",
        "              while( a in actions):\n",
        "                index_state = random.randrange(0, len(recommended_contents), 1)\n",
        "                a = recommended_contents[index_state]\n",
        "            else:\n",
        "              #I'm recommending more items that the correlated ones, so I fill the remaining with random\n",
        "              a=random.randint(0, self.n_actions-1)\n",
        "              while(a==state or a in actions):\n",
        "                a=random.randint(0, self.n_actions-1)           \n",
        "            actions.append(a)\n",
        "        else:\n",
        "          #exploit my q_table\n",
        "          actions = np.argsort(self.q_table[state])[-self.N:]\n",
        "\n",
        "        return np.array(actions)\n",
        "\n",
        "\n",
        "    def learn_T ( self, state, action, reward, next_state, episode):\n",
        "        \"\"\"\n",
        "        Update the q_table according to the temperature-based algorithm\n",
        "        ...\n",
        "        \n",
        "        Parameters\n",
        "        ----------\n",
        "        state: int, current state of the environment\n",
        "        action: int, action taken\n",
        "        reward: float, reward obtained given state-action\n",
        "        next_state: int, next_state of the environment\n",
        "        \"\"\"\n",
        "        \n",
        "        # Get the H value for state\n",
        "        H = self.get_H(next_state)\n",
        "        \n",
        "        if not self.useMax:\n",
        "          self.last_f_update[state]=episode\n",
        "        # For all actions update the q values based on the H parameter in the learning algorithm\n",
        "        \n",
        "        #evaluate if H for each action or mean H\n",
        "        for i in range(len(action)):\n",
        "            c = reward\n",
        "            a=action[i]\n",
        "\n",
        "            old_value = self.q_table[state, a]\n",
        "            \n",
        "            new_value = (1 - self.alpha)* old_value + self.alpha * (c + self.gamma * H)\n",
        "            \n",
        "            self.q_table[state,a] = new_value\n",
        "        \n",
        "        if not self.useMax:\n",
        "          self.create_f_table(state)  \n",
        "        \n",
        "        return\n",
        "    \n",
        "    def create_f_table(self, state):\n",
        "        v = self.q_table[state]\n",
        "        v = np.divide(v, self.T)\n",
        "        v = np.subtract(v, np.max(v)) #Shift all to avoid overflow issues\n",
        "        v = np.exp(v)\n",
        "        self.f_table[state]=v/np.sum(v)\n",
        "        return\n",
        "    \n",
        "    def get_H(self, state):\n",
        "        '''\n",
        "        Return the sum of Q-values for all action in this state, weighted by the Frequency \n",
        "        '''\n",
        "        if self.useMax:\n",
        "          h = self.q_table[state]\n",
        "          h = np.sort(h) \n",
        "          return np.sum(h[-self.N:])/self.N\n",
        "        elif not self.useMax:\n",
        "          h=0\n",
        "          h = np.dot(self.f_table[state], self.q_table[state])\n",
        "          return h\n",
        "\n",
        "    # Printing the Q-table with states\n",
        "    def plot_q_table(self, notated=False, **kwargs):\n",
        "        \"\"\"\n",
        "        Plot q table heatmap\n",
        "        \n",
        "        ...\n",
        "        \"\"\"\n",
        "        if notated:\n",
        "            _,_,_ = plot_notated_matrix(self.q_table,x_label=\"Actions\", y_label=\"States\", title=\"Q table\", **kwargs)\n",
        "\n",
        "        else:\n",
        "            ax = plt.subplot(111)\n",
        "            im = ax.imshow(self.q_table)\n",
        "\n",
        "            divider = make_axes_locatable(ax)\n",
        "            cax = divider.append_axes(\"right\", size=\"5%\", pad=0.05)\n",
        "            plt.ylabel(\"States\")\n",
        "            plt.xlabel(\"Actions\")\n",
        "            plt.title(\"Q table\")\n",
        "            plt.colorbar(im, cax=cax)\n",
        "\n",
        "            plt.show()\n",
        "    \n",
        "    def plot_f_table(self, notated=False, **kwargs):\n",
        "        \"\"\"\n",
        "        Plot f table heatmap\n",
        "        \n",
        "        ...\n",
        "        \"\"\"\n",
        "        if notated:\n",
        "            _,_,_ = plot_notated_matrix(self.q_table,x_label=\"Actions\", y_label=\"States\", title=\"F table\", **kwargs)\n",
        "\n",
        "        else:\n",
        "            ax = plt.subplot(111)\n",
        "            im = ax.imshow(self.f_table)\n",
        "\n",
        "            divider = make_axes_locatable(ax)\n",
        "            cax = divider.append_axes(\"right\", size=\"5%\", pad=0.05)\n",
        "            plt.ylabel(\"States\")\n",
        "            plt.xlabel(\"Actions\")\n",
        "            plt.title(\"F table\")\n",
        "            plt.colorbar(im, cax=cax)\n",
        "\n",
        "            plt.show()\n",
        "\n",
        "    def decay_epsilon(self, episode):\n",
        "        \"\"\"\n",
        "        Decaying is being done every episode if episode number is \n",
        "        within decaying range\n",
        "        \"\"\"\n",
        "        \n",
        "        if self.eps_threshold is not None: \n",
        "          if self.eps_threshold >= episode >= self.start_decay and self.eps >= self.eps_min :\n",
        "              self.eps -= self.epsilon_decay_value\n",
        "          else:\n",
        "              # To prevent negative values and still maintain exploration at a minimum \n",
        "              self.eps = self.eps_min\n",
        "        \n",
        "        else:\n",
        "          if self.eps >= self.eps_min :\n",
        "              self.eps -= self.epsilon_decay_value\n",
        "          else:\n",
        "              # To prevent negative values and still maintain exploration at a minimum \n",
        "              self.eps = self.eps_min \n",
        "\n",
        "        return \n",
        "    \n",
        "    def decay_T(self, episode):\n",
        "      if not self.custom:\n",
        "        if self.end_decay >= episode >= self.start_decay and self.T >= self.T_min :\n",
        "          self.T = self.T_0 / pow(episode, self.delta)\n",
        "        elif not self.f and self.end_decay >= episode >= self.start_decay:\n",
        "          self.f = True\n",
        "          print(f\"time limit reached at episode {episode}\")\n",
        "\n",
        "      else:\n",
        "        if self.end_decay >= episode >= self.start_decay and self.T >= self.T_min :\n",
        "          self.T -= self.T_decay_val\n",
        "        else:\n",
        "          # To prevent negative T values \n",
        "          #print(f\"time limit reached at episode {episode}\")\n",
        "          self.T = self.T_min\n",
        "      return \n",
        "\n",
        "      \n"
      ],
      "execution_count": null,
      "outputs": []
    },
    {
      "cell_type": "markdown",
      "metadata": {
        "id": "8zhgNd_DPSPt"
      },
      "source": [
        "## Multiple recommendations Agent, no F table "
      ]
    },
    {
      "cell_type": "markdown",
      "metadata": {
        "id": "qnoRLzAWX5zH"
      },
      "source": [
        "### Tabular Agent for Multiple recommendations"
      ]
    },
    {
      "cell_type": "code",
      "metadata": {
        "id": "PPwWYcMCPecl"
      },
      "source": [
        "class Agent_n_recomm:\n",
        "    \"\"\" \n",
        "    ...\n",
        "\n",
        "    Attributes\n",
        "    ----------\n",
        "    n_actions: int\n",
        "        number of possible actions\n",
        "    n_states: int\n",
        "        number of possible states\n",
        "    q_table: array([n_states, n_actions])\n",
        "        array containing values for all states-action pair\n",
        "    alpha : float\n",
        "        learning_rate, determines to what extent newly acquired information overrides old information\n",
        "    gamma : float\n",
        "        discount_factor, determines the importance of future rewards\n",
        "    eps : float\n",
        "        probability of exploitation instead of exploration\n",
        "        \n",
        "    N : int \n",
        "        Number of slate recommendations per State \n",
        "\n",
        "    start_decay : int \n",
        "        Episode on which decay should start \n",
        "    \n",
        "    end_decay : int \n",
        "        episode till which should continue\n",
        "\n",
        "    epsilon_decay_value : float \n",
        "        Value by which epsilon should be decayed every episode\n",
        "\n",
        "    eps_min : float \n",
        "        lower bound on the epsilon value\n",
        "\n",
        "    T : int\n",
        "        Temperature\n",
        "\n",
        "    T_min : float \n",
        "        Extremely small value of T for lower bound \n",
        "      \n",
        "    T_decay_value : float \n",
        "        Value by which T should be decayed every episode\n",
        "\n",
        "    Methods\n",
        "    -------\n",
        "    choose_action(state)\n",
        "        Choose next action with an epsilon-greedy policy\n",
        "        \n",
        "    choose_action_rec(state, env )\n",
        "        Choose next action from recommendations with an epsilon-greedy policy\n",
        "    \n",
        "    learn_T(state, action, reward, next_state)\n",
        "        The Q update is done by the Frequency-based method\n",
        "\n",
        "    learn(state, action, reward, next_state)\n",
        "        Update the q_table\n",
        "    \n",
        "    get_H(state)\n",
        "        Calculates the Frequency sum factor used by learn_T\n",
        "\n",
        "    denominator(state)\n",
        "        Calculates the denominator term for frequency calculation\n",
        "\n",
        "    plot_q_table()\n",
        "        Plot q table heatmap\n",
        "        \n",
        "    decay_epsilon(episode)\n",
        "        decay the epsilon value based on defined attributes\n",
        "\n",
        "    decay_T(episode)\n",
        "        decay the Temperature based on defined attributes\n",
        "\n",
        "    \"\"\"\n",
        "    \n",
        "    def __init__(self, n_states, n_actions, alpha=0.9, gamma=0.9, eps=0.9,\n",
        "                 max_iter=50000, n_recomm=2, end_decay=None, eps_threshold=None):\n",
        "        self.n_recomm=n_recomm\n",
        "        self.actions = list(combinations(range(n_states),self.n_recomm))\n",
        "        self.n_actions = len(self.actions)\n",
        "        self.n_states = n_states\n",
        "        self.q_table = np.zeros([self.n_states, self.n_actions])\n",
        "        self.alpha = alpha\n",
        "        self.gamma = gamma\n",
        "        self.eps = eps\n",
        "        \n",
        "        self.eps_threshold=eps_threshold\n",
        "        \n",
        "        # Epsilon Decay parameters \n",
        "        self.start_decay = 1\n",
        "        \n",
        "        if end_decay is not None: \n",
        "          self.end_decay = end_decay      \n",
        "        else:\n",
        "          self.end_decay = max_iter\n",
        "        \n",
        "        self.epsilon_decay_value = self.eps/np.abs(self.end_decay - self.start_decay)\n",
        "        self.eps_min = 1e-4\n",
        "        \n",
        "        \n",
        "    def choose_action(self, state):\n",
        "        \"\"\"\n",
        "        Parameters\n",
        "        ----------\n",
        "        state : int, current state of the environment\n",
        "        Returns\n",
        "        -------\n",
        "        action: int, action taken given the current state and an e-greedy policy\n",
        "        \n",
        "        \"\"\"\n",
        "        action = []\n",
        "        \n",
        "        if random.uniform(0, 1) < self.eps:\n",
        "          # Explore action space\n",
        "          a = random.choice(self.actions)\n",
        "          while state in a:\n",
        "            a = random.choice(self.actions)  \n",
        "        else:\n",
        "          # Exploit learned values\n",
        "          index = np.argsort(self.q_table[state])[-1]\n",
        "          a = self.actions[index] \n",
        "        for elem in a:\n",
        "          action.append(elem)\n",
        "\n",
        "        return np.array(action)\n",
        "\n",
        "        \n",
        "\n",
        "       \n",
        "#TODO\n",
        "    def choose_rec_action(self, env, state):\n",
        "        action = []\n",
        "        if random.uniform(0, 1) < self.eps:\n",
        "          # Get the recommended slate, and then Randomly select one of the recommendations\n",
        "          recommended_contents =  env.recommended[state]\n",
        "          index_state = random.randrange(0, len(recommended_contents), 1)\n",
        "          action.append(recommended_contents[index_state])          \n",
        "        else :\n",
        "        # Exploit learned values\n",
        "          index = np.argmax(self.q_table[state])\n",
        "          a = self.actions[index] \n",
        "        for elem in a:\n",
        "          action.append(elem)              \n",
        "        return action\n",
        "    \n",
        "    def learn(self, state, action, reward, next_state):\n",
        "        \"\"\"\n",
        "        Update the q_table\n",
        "        \n",
        "        ...\n",
        "        \n",
        "        Parameters\n",
        "        ----------\n",
        "        state: int, current state of the environment\n",
        "        action: int, action taken\n",
        "        reward: float, reward obtained given state-action\n",
        "        next_state: int, next_state of the environment\n",
        "        \"\"\"\n",
        "        #must create a tuple according to the number of recommendations done\n",
        "        #TODO: make the tuple creation general\n",
        "        q_index = self.actions.index((action[0], action[1]))\n",
        "\n",
        "        # q_index = self.actions.index((action[0], action[1], action[2]))\n",
        "        #q_index = self.actions.index((action[0], action[1], action[2], action[3]))\n",
        "\n",
        "\n",
        "        old_value = self.q_table[state, q_index]\n",
        "        next_max = np.max(self.q_table[next_state])\n",
        "\n",
        "        new_value = (1 - self.alpha)* old_value + self.alpha * (reward + self.gamma * next_max)\n",
        "        \n",
        "        self.q_table[state, q_index] = new_value\n",
        "        \n",
        "        return\n",
        "    \n",
        "    # Printing the Q-table with states\n",
        "    def plot_q_table(self, notated=False, **kwargs):\n",
        "        \"\"\"\n",
        "        Plot q table heatmap\n",
        "        \n",
        "        ...\n",
        "        \"\"\"\n",
        "        if notated:\n",
        "            _,_,_ = plot_notated_matrix(self.q_table,x_label=\"Actions\", y_label=\"States\", title=\"Q table\", **kwargs)\n",
        "\n",
        "        else:\n",
        "            ax = plt.subplot(111)\n",
        "            im = ax.imshow(self.q_table)\n",
        "\n",
        "            divider = make_axes_locatable(ax)\n",
        "            cax = divider.append_axes(\"right\", size=\"5%\", pad=0.05)\n",
        "            plt.ylabel(\"States\")\n",
        "            plt.xlabel(\"Actions\")\n",
        "            plt.title(\"Q table\")\n",
        "            plt.colorbar(im, cax=cax)\n",
        "\n",
        "            plt.show()\n",
        "    \n",
        "    def decay_epsilon(self, episode):\n",
        "        \"\"\"\n",
        "        Decaying is being done every episode if episode number is \n",
        "        within decaying range\n",
        "        \"\"\"\n",
        "        if self.eps_threshold is not None: \n",
        "          if self.eps_threshold >= episode >= self.start_decay and self.eps >= self.eps_min :\n",
        "              self.eps -= self.epsilon_decay_value\n",
        "          else:\n",
        "              # To prevent negative values and still maintain exploration at a minimum \n",
        "              self.eps = self.eps_min\n",
        "        \n",
        "        else:\n",
        "          if self.eps >= self.eps_min :\n",
        "              self.eps -= self.epsilon_decay_value\n",
        "          else:\n",
        "              # To prevent negative values and still maintain exploration at a minimum \n",
        "              self.eps = self.eps_min\n",
        "\n",
        "        return \n",
        "    "
      ],
      "execution_count": null,
      "outputs": []
    },
    {
      "cell_type": "markdown",
      "metadata": {
        "id": "FF-tXt54Hsl9"
      },
      "source": [
        "## Loop for Reward plots of Multiple Gammas"
      ]
    },
    {
      "cell_type": "code",
      "metadata": {
        "id": "xq7BoL1QHwEq"
      },
      "source": [
        "def loop_gamma(env, gammas=[0, 0.9], alpha=0.6, \\\n",
        "    epsilon=0.1, max_iter=50000, v1 = False, threshold=1e-4, n_recomm=1 ) : \n",
        "    \"\"\"\n",
        "    Function to loop through multiple discount factors\n",
        "\n",
        "    Parameters\n",
        "    ---------\n",
        "    env: Environment\n",
        "    n_actions: number of actions\n",
        "    n_states: number of states\n",
        "    gammas: List of discount factors\n",
        "    alpha: Learning rate\n",
        "    epsilon: exploration parameter\n",
        "    max_iter: int, max number of episodes\n",
        "    v1: bool, Variable to set selection from recommendation slate\n",
        "    threshold: float, minimum difference to stop algorithm\n",
        "    \n",
        "    Returns\n",
        "    -------\n",
        "    rewards: Array with accumulated rewards for all discount factors\n",
        "    penalties: Array with accumulated penalties for all discount factors\n",
        "\n",
        "    \"\"\"\n",
        "\n",
        "    # Initialize lists for storing rewards and penalties for multiple gammas\n",
        "    rewards, penalties, Agents = [],[], []\n",
        "    \n",
        "    for g in gammas : \n",
        "        \n",
        "        if n_recomm == 1:\n",
        "          # Create an agent for the gamma values     \n",
        "          agent = Agent(n_actions=env.n_actions,n_states=env.n_states, alpha=alpha, gamma = g, eps=epsilon,)\n",
        "          # Train the agent and get the accumulated rewards and penalties \n",
        "          _, _, _, _, rew, pen = update(env, agent, max_iter = max_iter, threshold = threshold)\n",
        "        else :\n",
        "          agent = Agent_Multiple(n_actions=env.n_actions,n_states=env.n_states, alpha=alpha, gamma = g, eps=epsilon, n_recommended=n_recomm)\n",
        "          _, _, _, _, rew, pen = update_T(env, agent, max_iter = max_iter, threshold = threshold)\n",
        "\n",
        "        #Append the accumulated rewards and penalties\n",
        "        rewards.append(rew)\n",
        "        penalties.append(pen)\n",
        "        Agents.append(agent)\n",
        "    \n",
        "    return rewards, penalties, Agents"
      ],
      "execution_count": null,
      "outputs": []
    },
    {
      "cell_type": "markdown",
      "metadata": {
        "id": "ip-s3KBB1dhh"
      },
      "source": [
        "## Test"
      ]
    },
    {
      "cell_type": "markdown",
      "metadata": {
        "id": "nF7PR8PCUqDY"
      },
      "source": [
        "### Setting the Environment"
      ]
    },
    {
      "cell_type": "code",
      "metadata": {
        "id": "-TQS1pcJ1gZQ"
      },
      "source": [
        "n_actions = 50\n",
        "n_states = 50\n",
        "\n",
        "env = Environment(n_actions=n_actions, n_states=n_states, alpha=0.6, to_leave=0.1,\\\n",
        "                  n_recommended=7, n_cached=5, rewards=[2,1,1,0], SEED=77)\n",
        "\n",
        "#RL.plot_results(steps, all_costs)"
      ],
      "execution_count": null,
      "outputs": []
    },
    {
      "cell_type": "markdown",
      "metadata": {
        "id": "koDLNEBKDp3y"
      },
      "source": [
        "### Comparision for 1 Recommendation"
      ]
    },
    {
      "cell_type": "markdown",
      "metadata": {
        "id": "SlBV02ATVD-3"
      },
      "source": [
        "#### Tabular Agent"
      ]
    },
    {
      "cell_type": "code",
      "metadata": {
        "colab": {
          "base_uri": "https://localhost:8080/",
          "height": 385
        },
        "id": "MUL0Cnhhkxjf",
        "outputId": "12c8ee50-11fa-4d4c-da43-719bb16d697c"
      },
      "source": [
        "RL_1 = Agent(n_actions=n_actions,\n",
        "             n_states=n_states,\n",
        "             alpha=0.6, \n",
        "             gamma = 0.9, \n",
        "             eps=0.1\n",
        "             )\n",
        "\n",
        "time_train, episodes, steps, costs, all_rewards_1, all_penalties_1, all_f_1 = update(env, \n",
        "                                                                               RL_1, \n",
        "                                                                               max_iter = 100_000, \n",
        "                                                                               threshold = -1,\n",
        "                                                                               eps_decay=False\n",
        "                                                                               )\n",
        "print(\"Total number of episodes: \", episodes)\n",
        "\n",
        "RL_1.plot_q_table()"
      ],
      "execution_count": null,
      "outputs": [
        {
          "output_type": "error",
          "ename": "KeyboardInterrupt",
          "evalue": "ignored",
          "traceback": [
            "\u001b[0;31m---------------------------------------------------------------------------\u001b[0m",
            "\u001b[0;31mKeyboardInterrupt\u001b[0m                         Traceback (most recent call last)",
            "\u001b[0;32m<ipython-input-13-8b37eb72ad12>\u001b[0m in \u001b[0;36m<module>\u001b[0;34m()\u001b[0m\n\u001b[1;32m     10\u001b[0m                                                                                \u001b[0mmax_iter\u001b[0m \u001b[0;34m=\u001b[0m \u001b[0;36m100_000\u001b[0m\u001b[0;34m,\u001b[0m\u001b[0;34m\u001b[0m\u001b[0;34m\u001b[0m\u001b[0m\n\u001b[1;32m     11\u001b[0m                                                                                \u001b[0mthreshold\u001b[0m \u001b[0;34m=\u001b[0m \u001b[0;34m-\u001b[0m\u001b[0;36m1\u001b[0m\u001b[0;34m,\u001b[0m\u001b[0;34m\u001b[0m\u001b[0;34m\u001b[0m\u001b[0m\n\u001b[0;32m---> 12\u001b[0;31m                                                                                \u001b[0meps_decay\u001b[0m\u001b[0;34m=\u001b[0m\u001b[0;32mFalse\u001b[0m\u001b[0;34m\u001b[0m\u001b[0;34m\u001b[0m\u001b[0m\n\u001b[0m\u001b[1;32m     13\u001b[0m                                                                                )\n\u001b[1;32m     14\u001b[0m \u001b[0mprint\u001b[0m\u001b[0;34m(\u001b[0m\u001b[0;34m\"Total number of episodes: \"\u001b[0m\u001b[0;34m,\u001b[0m \u001b[0mepisodes\u001b[0m\u001b[0;34m)\u001b[0m\u001b[0;34m\u001b[0m\u001b[0;34m\u001b[0m\u001b[0m\n",
            "\u001b[0;32m<ipython-input-6-5dad1023cb6e>\u001b[0m in \u001b[0;36mupdate\u001b[0;34m(env, agent, max_iter, threshold, v1, eps_decay)\u001b[0m\n\u001b[1;32m     64\u001b[0m                 \u001b[0maction\u001b[0m \u001b[0;34m=\u001b[0m \u001b[0magent\u001b[0m\u001b[0;34m.\u001b[0m\u001b[0mchoose_rec_action\u001b[0m\u001b[0;34m(\u001b[0m\u001b[0menv\u001b[0m\u001b[0;34m,\u001b[0m \u001b[0mstate\u001b[0m\u001b[0;34m)\u001b[0m\u001b[0;34m\u001b[0m\u001b[0;34m\u001b[0m\u001b[0m\n\u001b[1;32m     65\u001b[0m \u001b[0;34m\u001b[0m\u001b[0m\n\u001b[0;32m---> 66\u001b[0;31m             \u001b[0mnext_state\u001b[0m\u001b[0;34m,\u001b[0m \u001b[0mreward\u001b[0m\u001b[0;34m,\u001b[0m \u001b[0mdone\u001b[0m \u001b[0;34m=\u001b[0m \u001b[0menv\u001b[0m\u001b[0;34m.\u001b[0m\u001b[0mstep\u001b[0m\u001b[0;34m(\u001b[0m\u001b[0maction\u001b[0m\u001b[0;34m,\u001b[0m \u001b[0mstate\u001b[0m\u001b[0;34m)\u001b[0m\u001b[0;34m\u001b[0m\u001b[0;34m\u001b[0m\u001b[0m\n\u001b[0m\u001b[1;32m     67\u001b[0m \u001b[0;34m\u001b[0m\u001b[0m\n\u001b[1;32m     68\u001b[0m             \u001b[0;32mif\u001b[0m \u001b[0;34m(\u001b[0m \u001b[0;34m(\u001b[0m\u001b[0mnext_state\u001b[0m \u001b[0;32mis\u001b[0m \u001b[0;32mNone\u001b[0m\u001b[0;34m)\u001b[0m \u001b[0;32mor\u001b[0m \u001b[0;34m(\u001b[0m\u001b[0maction\u001b[0m \u001b[0;32mis\u001b[0m \u001b[0;32mNone\u001b[0m\u001b[0;34m)\u001b[0m  \u001b[0;34m)\u001b[0m \u001b[0;34m:\u001b[0m\u001b[0;34m\u001b[0m\u001b[0;34m\u001b[0m\u001b[0m\n",
            "\u001b[0;32m<ipython-input-5-bfa6069359e5>\u001b[0m in \u001b[0;36mstep\u001b[0;34m(self, action, state)\u001b[0m\n\u001b[1;32m    107\u001b[0m \u001b[0;34m\u001b[0m\u001b[0m\n\u001b[1;32m    108\u001b[0m                     \u001b[0;31m# Get the  reward based on transition to the new state, from the current state\u001b[0m\u001b[0;34m\u001b[0m\u001b[0;34m\u001b[0m\u001b[0;34m\u001b[0m\u001b[0m\n\u001b[0;32m--> 109\u001b[0;31m                     \u001b[0mreward\u001b[0m \u001b[0;34m=\u001b[0m \u001b[0mself\u001b[0m\u001b[0;34m.\u001b[0m\u001b[0mfind_reward\u001b[0m\u001b[0;34m(\u001b[0m\u001b[0mstate\u001b[0m\u001b[0;34m,\u001b[0m \u001b[0mnew_state\u001b[0m\u001b[0;34m)\u001b[0m\u001b[0;34m\u001b[0m\u001b[0;34m\u001b[0m\u001b[0m\n\u001b[0m\u001b[1;32m    110\u001b[0m \u001b[0;34m\u001b[0m\u001b[0m\n\u001b[1;32m    111\u001b[0m                 \u001b[0;32melse\u001b[0m \u001b[0;34m:\u001b[0m\u001b[0;34m\u001b[0m\u001b[0;34m\u001b[0m\u001b[0m\n",
            "\u001b[0;32m<ipython-input-5-bfa6069359e5>\u001b[0m in \u001b[0;36mfind_reward\u001b[0;34m(self, state, next_state)\u001b[0m\n\u001b[1;32m     71\u001b[0m         \u001b[0mis_cached\u001b[0m \u001b[0;34m=\u001b[0m \u001b[0mget_cached\u001b[0m \u001b[0;34m(\u001b[0m\u001b[0mnext_state\u001b[0m\u001b[0;34m,\u001b[0m \u001b[0mself\u001b[0m\u001b[0;34m.\u001b[0m\u001b[0mcost\u001b[0m\u001b[0;34m)\u001b[0m\u001b[0;34m\u001b[0m\u001b[0;34m\u001b[0m\u001b[0m\n\u001b[1;32m     72\u001b[0m \u001b[0;34m\u001b[0m\u001b[0m\n\u001b[0;32m---> 73\u001b[0;31m         \u001b[0;32mif\u001b[0m \u001b[0;34m(\u001b[0m \u001b[0;34m(\u001b[0m\u001b[0mnext_state\u001b[0m \u001b[0;32min\u001b[0m \u001b[0mrecommended_matrix\u001b[0m\u001b[0;34m)\u001b[0m \u001b[0;32mand\u001b[0m \u001b[0;34m(\u001b[0m\u001b[0mis_cached\u001b[0m\u001b[0;34m)\u001b[0m\u001b[0;34m)\u001b[0m \u001b[0;34m:\u001b[0m\u001b[0;34m\u001b[0m\u001b[0;34m\u001b[0m\u001b[0m\n\u001b[0m\u001b[1;32m     74\u001b[0m             \u001b[0;32mreturn\u001b[0m \u001b[0mself\u001b[0m\u001b[0;34m.\u001b[0m\u001b[0mrewards\u001b[0m\u001b[0;34m[\u001b[0m\u001b[0;36m0\u001b[0m\u001b[0;34m]\u001b[0m\u001b[0;34m\u001b[0m\u001b[0;34m\u001b[0m\u001b[0m\n\u001b[1;32m     75\u001b[0m         \u001b[0;32melif\u001b[0m \u001b[0;34m(\u001b[0m \u001b[0;34m(\u001b[0m\u001b[0mnext_state\u001b[0m \u001b[0;32min\u001b[0m \u001b[0mrecommended_matrix\u001b[0m\u001b[0;34m)\u001b[0m \u001b[0;32mand\u001b[0m \u001b[0;34m(\u001b[0m \u001b[0;32mnot\u001b[0m \u001b[0mis_cached\u001b[0m\u001b[0;34m)\u001b[0m \u001b[0;34m)\u001b[0m \u001b[0;34m:\u001b[0m\u001b[0;34m\u001b[0m\u001b[0;34m\u001b[0m\u001b[0m\n",
            "\u001b[0;31mKeyboardInterrupt\u001b[0m: "
          ]
        }
      ]
    },
    {
      "cell_type": "markdown",
      "metadata": {
        "id": "zwWwM9m9VGQg"
      },
      "source": [
        "#### ALGO-QF Agent"
      ]
    },
    {
      "cell_type": "code",
      "metadata": {
        "id": "8EjJPrnCDb_E"
      },
      "source": [
        "RL_QF_1 = Agent_Multiple(n_actions=n_actions,\n",
        "                         n_states=n_states, \n",
        "                         alpha=0.6, \n",
        "                         gamma = 0.99, \n",
        "                         eps=0.1, \n",
        "                         delta=0.1,\n",
        "                         n_recommended=1,\n",
        "                         )\n",
        "\n",
        "time_train, episodes, steps, costs, all_rewards_n_1, all_penalties_n_1, all_f_n_1 = update_T(env, \n",
        "                                                                                       RL_QF_1, \n",
        "                                                                                       max_iter = 100_000, \n",
        "                                                                                       threshold = -1,\n",
        "                                                                                       temp_decay=True,\n",
        "                                                                                       eps_decay=False\n",
        "                                                                                       )\n",
        "print(\"Total number of episodes: \", episodes)\n",
        "RL_QF_1.plot_q_table()\n",
        "RL_QF_1.plot_f_table()"
      ],
      "execution_count": null,
      "outputs": []
    },
    {
      "cell_type": "code",
      "metadata": {
        "id": "GUJb0xIjDUCa"
      },
      "source": [
        "smoothed_rews = running_mean(all_rewards_n_1, 2000)\n",
        "plt.plot(smoothed_rews, label=\"ALGO-QF with temperature decay\")\n",
        "\n",
        "smoothed_rews = running_mean(all_rewards_1, 2000)\n",
        "plt.plot(smoothed_rews, label=\"Oracle\")\n",
        "\n",
        "plt.legend()\n",
        "plt.title(f\"comparison for gamma=0.9, 1 Recommendation, alpha={env.alpha}\")\n",
        "plt.grid(True)"
      ],
      "execution_count": null,
      "outputs": []
    },
    {
      "cell_type": "markdown",
      "metadata": {
        "id": "ajcjuhHqHitD"
      },
      "source": [
        "### Comparision for 2 Recommendations"
      ]
    },
    {
      "cell_type": "markdown",
      "metadata": {
        "id": "RoDlZFb4afTf"
      },
      "source": [
        "#### Tabular without Epsilon Decay"
      ]
    },
    {
      "cell_type": "code",
      "metadata": {
        "id": "5Y1LPw-_1iXv"
      },
      "source": [
        "RL_2 = Agent_n_recomm(\n",
        "                      n_actions=n_actions,\n",
        "                      n_states=n_states,\n",
        "                      alpha=0.6, \n",
        "                      gamma = 0.9, \n",
        "                      eps=0.1, \n",
        "                      n_recomm=2,\n",
        "                      )\n",
        "\n",
        "time_train, episodes, steps, costs, all_rewards, all_penalties, all_f = update(env, \n",
        "                                                                               RL_2, \n",
        "                                                                               max_iter = 200_000, \n",
        "                                                                               threshold = -1,\n",
        "                                                                               eps_decay=False\n",
        "                                                                               )\n",
        "print(\"Total number of episodes: \", episodes)\n",
        "\n",
        "RL_2.plot_q_table()\n"
      ],
      "execution_count": null,
      "outputs": []
    },
    {
      "cell_type": "markdown",
      "metadata": {
        "id": "UIG4JF5JakoJ"
      },
      "source": [
        "#### Tabular With Epsilon Decay"
      ]
    },
    {
      "cell_type": "code",
      "metadata": {
        "id": "qcY3_CuQaV5F"
      },
      "source": [
        "#With Epsilon Decay\n",
        "RL_2_eps = Agent_n_recomm(\n",
        "                      n_actions=n_actions,\n",
        "                      n_states=n_states,\n",
        "                      alpha=0.6, \n",
        "                      gamma = 0.9, \n",
        "                      eps=1, \n",
        "                      n_recomm=2,\n",
        "                      # end_decay=300_000,\n",
        "                      # eps_threshold=100_000\n",
        "                      # custom=True\n",
        "                      )\n",
        "\n",
        "time_train, episodes, steps, costs, all_rewards_eps, all_penalties_eps, all_f_eps = update(env, \n",
        "                                                                                            RL_2_eps, \n",
        "                                                                                            max_iter = 70_000, \n",
        "                                                                                            threshold = -1,\n",
        "                                                                                            eps_decay=True\n",
        "                                                                                            )\n",
        "\n",
        "print(\"Total number of episodes: \", episodes)\n",
        "\n",
        "RL_2_eps.plot_q_table()\n"
      ],
      "execution_count": null,
      "outputs": []
    },
    {
      "cell_type": "markdown",
      "metadata": {
        "id": "9D2Mmyt6qF79"
      },
      "source": [
        "#### ALGO-QF with Temperature Decay"
      ]
    },
    {
      "cell_type": "code",
      "metadata": {
        "id": "XmnZtSUjU39M",
        "colab": {
          "base_uri": "https://localhost:8080/",
          "height": 563
        },
        "outputId": "2bce8960-299a-47e9-86fb-76d4c6afa5dd"
      },
      "source": [
        "RL_QF_2_T = Agent_Multiple(n_actions=n_actions,\n",
        "                         n_states=n_states, \n",
        "                         alpha=0.6, \n",
        "                         gamma = 0.9, \n",
        "                         eps=1, \n",
        "                         n_recommended=2,\n",
        "                         delta=0.1,\n",
        "                         temperature=100,\n",
        "                        #  custom = True\n",
        "                        #end_decay=300_000,\n",
        "                         #eps_threshold=15_000\n",
        "                         )\n",
        "\n",
        "time_train, episodes, steps, costs, all_rewards_n_T, all_penalties_n_T, all_f_n_T = update_T(env, \n",
        "                                                                                            RL_QF_2_T, \n",
        "                                                                                            max_iter = 100_000, \n",
        "                                                                                            threshold = -1,\n",
        "                                                                                            eps_decay=True,\n",
        "                                                                                            temp_decay=True,\n",
        "                                                                                            )\n",
        "\n",
        "print(\"Total number of episodes: \", episodes)\n",
        "RL_QF_2_T.plot_q_table()\n",
        "RL_QF_2_T.plot_f_table()\n"
      ],
      "execution_count": null,
      "outputs": [
        {
          "output_type": "stream",
          "text": [
            "Total number of episodes:  100000\n"
          ],
          "name": "stdout"
        },
        {
          "output_type": "display_data",
          "data": {
            "image/png": "[encoded data removed]",
            "text/plain": [
              "<Figure size 432x288 with 2 Axes>"
            ]
          },
          "metadata": {
            "tags": [],
            "needs_background": "light"
          }
        },
        {
          "output_type": "display_data",
          "data": {
            "image/png": "[encoded data removed]",
            "text/plain": [
              "<Figure size 432x288 with 2 Axes>"
            ]
          },
          "metadata": {
            "tags": [],
            "needs_background": "light"
          }
        }
      ]
    },
    {
      "cell_type": "code",
      "metadata": {
        "id": "6CBbBG8crQk0"
      },
      "source": [
        "RL_QF_2_T.T"
      ],
      "execution_count": null,
      "outputs": []
    },
    {
      "cell_type": "markdown",
      "metadata": {
        "id": "8xXGHEOI4rMN"
      },
      "source": [
        "#### ALGO-QF without Temperature Decay"
      ]
    },
    {
      "cell_type": "code",
      "metadata": {
        "id": "EdGnDmnrwYGw"
      },
      "source": [
        "RL_QF_2_T_fixed = Agent_Multiple(n_actions=n_actions,\n",
        "                         n_states=n_states, \n",
        "                         alpha=0.6, \n",
        "                         gamma = 0.9, \n",
        "                         eps=1, \n",
        "                         n_recommended=2,\n",
        "                         delta=0.9,\n",
        "                         temperature=1e-6,\n",
        "                        #  end_decay=100_000,\n",
        "                         eps_threshold=10_000 \n",
        "                         )\n",
        "\n",
        "time_train, episodes, steps, costs, all_rewards_n_T_fixed, all_penalties_n_T_fixed, all_f_n_T_fixed = update_T(env, \n",
        "                                                                                                                RL_QF_2_T_fixed, \n",
        "                                                                                                                max_iter = 70_000,\n",
        "                                                                                                                threshold = -1,\n",
        "                                                                                                                eps_decay=True,\n",
        "                                                                                                                temp_decay=False\n",
        "                                                                                                                )\n",
        "print(\"Total number of episodes: \", episodes)\n",
        "RL_QF_2_T_fixed.plot_q_table()\n",
        "RL_QF_2_T_fixed.plot_f_table()"
      ],
      "execution_count": null,
      "outputs": []
    },
    {
      "cell_type": "markdown",
      "metadata": {
        "id": "srS8hJTwUAgc"
      },
      "source": [
        "#### ALGO-QF with the max update"
      ]
    },
    {
      "cell_type": "code",
      "metadata": {
        "id": "o9NO4QRRZpJo"
      },
      "source": [
        "## With Max\n",
        "RL_QF_2_Max = Agent_Multiple(n_actions=n_actions,\n",
        "                         n_states=n_states, \n",
        "                         alpha=0.6, \n",
        "                         gamma = 0.9, \n",
        "                         eps=1, \n",
        "                         n_recommended=2,\n",
        "                         delta=0.9,\n",
        "                         temperature=1e-6, \n",
        "                         useMax=True,\n",
        "                        #  end_decay=300_000,\n",
        "                         eps_threshold=25_000\n",
        "                         )\n",
        "\n",
        "time_train, episodes, steps, costs, all_rewards_n_Max, all_penalties_n_Max, all_f_n_Max = update_T(env, \n",
        "                                                                                                    RL_QF_2_Max, \n",
        "                                                                                                    max_iter = 70_000, \n",
        "                                                                                                    threshold = -1,\n",
        "                                                                                                    eps_decay=True,\n",
        "                                                                                                    temp_decay=False,\n",
        "                                                                                                    )\n",
        "\n",
        "print(\"Total number of episodes: \", episodes)\n",
        "RL_QF_2_Max.plot_q_table()\n",
        "# RL_QF_2_Max.plot_f_table()"
      ],
      "execution_count": null,
      "outputs": []
    },
    {
      "cell_type": "code",
      "metadata": {
        "id": "7R2cXH9MlcG6",
        "colab": {
          "base_uri": "https://localhost:8080/",
          "height": 281
        },
        "outputId": "d0ebf663-c1ec-4520-ea8f-72af9aa43ccd"
      },
      "source": [
        "smoothed_rews = running_mean(all_rewards_n_T, 2000)\n",
        "plt.plot(smoothed_rews, label=\"ALGO-QF with temperature decay\")\n",
        "\n",
        "#smoothed_rews = running_mean(all_rewards_n_T_fixed, 2000)\n",
        "#plt.plot(smoothed_rews, label=\"ALGO-QF without temperature decay\")\n",
        "\n",
        "#smoothed_rews = running_mean(all_rewards_n_Max, 2000)\n",
        "#plt.plot(smoothed_rews, label=\"ALGO-QF with max\")\n",
        "\n",
        "#smoothed_rews = running_mean(all_rewards_eps, 2000)\n",
        "#plt.plot(smoothed_rews, label=\"Oracle with epsilon decay\")\n",
        "\n",
        "#smoothed_rews = running_mean(all_rewards, 5000)\n",
        "#plt.plot(smoothed_rews, label=\"Oracle without epsilon decay\")\n",
        "\n",
        "plt.legend()\n",
        "plt.title(f\"Comparison for gamma=0.9, n_recommended=2, alpha_user={env.alpha}\")\n",
        "plt.grid(True)\n"
      ],
      "execution_count": null,
      "outputs": [
        {
          "output_type": "display_data",
          "data": {
            "image/png": "[encoded data removed]",
            "text/plain": [
              "<Figure size 432x288 with 1 Axes>"
            ]
          },
          "metadata": {
            "tags": [],
            "needs_background": "light"
          }
        }
      ]
    },
    {
      "cell_type": "code",
      "metadata": {
        "id": "R5e0GrM-4PIs"
      },
      "source": [
        "#test with no exploration, after training\n",
        "\n",
        "RL_2_eps.eps=0\n",
        "\n",
        "time_train, episodes, steps, costs, all_rewards_eps, all_penalties_eps, all_f_eps = update(env, \n",
        "                                                                               RL_2_eps, \n",
        "                                                                               max_iter = 30_000, \n",
        "                                                                               threshold = -1,\n",
        "                                                                               eps_decay=False\n",
        "                                                                               )\n",
        "#print(\"Total number of episodes: \", episodes)\n",
        "\n",
        "RL_QF_2.eps=0\n",
        "\n",
        "time_train, episodes, steps, costs, all_rewards_n, all_penalties_n, all_f_n = update_T(env, \n",
        "                                                                                       RL_QF_2, \n",
        "                                                                                       max_iter = 30_000, \n",
        "                                                                                       threshold = -1,\n",
        "                                                                                       eps_decay=False,\n",
        "                                                                                       temp_decay=False\n",
        "                                                                                       )\n",
        "\n",
        "RL_QF_2_T.eps=0\n",
        "\n",
        "time_train, episodes, steps, costs, all_rewards_n_T, all_penalties_n_T, all_f_n_T = update_T(env, \n",
        "                                                                                       RL_QF_2_T, \n",
        "                                                                                       max_iter = 30_000, \n",
        "                                                                                       threshold = -1,\n",
        "                                                                                       eps_decay=False,\n",
        "                                                                                       temp_decay=False\n",
        "                                                                                       )"
      ],
      "execution_count": null,
      "outputs": []
    },
    {
      "cell_type": "code",
      "metadata": {
        "id": "nHGBrvJw6Mmi"
      },
      "source": [
        "smoothed_rews = running_mean(all_rewards_n_T, 1000)\n",
        "plt.plot(smoothed_rews, label=\"ALGO-QF temperature decay\")\n",
        "\n",
        "#smoothed_rews = running_mean(all_rewards_n_T_fixed, 1000)\n",
        "#plt.plot(smoothed_rews, label=\"ALGO-QF without temperature decay\")\n",
        "\n",
        "#smoothed_rews = running_mean(all_rewards_eps, 1000)\n",
        "#plt.plot(smoothed_rews, label=\"Tabular\")\n",
        "\n",
        "# smoothed_rews = running_mean(all_rewards, 2000)\n",
        "# plt.plot(smoothed_rews, label=\"Tabular with epsilon decay\")\n",
        "\n",
        "plt.legend()\n",
        "plt.title(\"Comparison for gamma=0.9, n_recommended=2\")\n",
        "plt.grid(True)"
      ],
      "execution_count": null,
      "outputs": []
    },
    {
      "cell_type": "code",
      "metadata": {
        "id": "0XVLvy-cnAh-"
      },
      "source": [
        "plt.bar(np.arange(n_states), all_f, color='b', width=0.4,  )\n",
        "\n",
        "plt.bar(np.arange(n_states)-0.4, all_f_n, color='r', width=0.4,  )\n",
        "\n",
        "\n",
        "\n",
        "print(\"Cached items:\")\n",
        "for i in range(n_states):\n",
        "  if env.cost[i] == 0:\n",
        "    print(i)\n",
        "\n"
      ],
      "execution_count": null,
      "outputs": []
    },
    {
      "cell_type": "code",
      "metadata": {
        "id": "tHA-sU2vjcyg"
      },
      "source": [
        "env = env_tmp"
      ],
      "execution_count": null,
      "outputs": []
    },
    {
      "cell_type": "markdown",
      "metadata": {
        "id": "pQVemRZsOYOb"
      },
      "source": [
        "###Recommendation type check"
      ]
    },
    {
      "cell_type": "code",
      "metadata": {
        "id": "BAScsXRkdPfh"
      },
      "source": [
        "#RL = RL_2_eps\n",
        "#RL_QF = RL_QF_2_T\n",
        "RL = RL_1\n",
        "RL_QF = RL_QF_1\n",
        "\n",
        "n_states = n_states\n",
        "n_actions = n_actions\n",
        "\n",
        "env = env\n",
        "cmp=\"single\"\n",
        "\n",
        "j=0\n",
        "k=0\n",
        "states=range(n_states)\n",
        "both_t=np.zeros(n_states)\n",
        "cached_t=np.zeros(n_states)\n",
        "corr_t=np.zeros(n_states)\n",
        "neither_t=np.zeros(n_states)\n",
        "total_q_t=np.zeros(n_states)\n",
        "both_qf =np.zeros(n_states)\n",
        "cached_qf=np.zeros(n_states)\n",
        "corr_qf=np.zeros(n_states)\n",
        "neither_qf=np.zeros(n_states)\n",
        "total_q_qf=np.zeros(n_states)\n",
        "mask_both_not_both_qf = np.ones(n_states)\n",
        "\n",
        "for i in range(n_states):\n",
        "  if cmp == \"multiple\":\n",
        "    a=RL.actions[np.argsort(RL.q_table[i])[-1]]\n",
        "    b = np.argsort(RL_QF.q_table[i])[-RL_QF.N:]\n",
        "    #print(f\"Tabular q_matrix: state {i}: action {a}\")\n",
        "    #print(f\"ALGO Q-L: state {i}: action {np.argsort(RL_QF.q_table[i])[-RL_QF.N:]}\")\n",
        "    recommended_matrix = env.recommended[i]\n",
        "    total_q_t[i]=RL.q_table[i,np.argmax(RL.q_table[i])]\n",
        "    for elem in a:\n",
        "      is_cached = get_cached(elem, env.cost)\n",
        "      if ( (elem in recommended_matrix) and (is_cached)) :\n",
        "        both_t[i] += 1\n",
        "      elif ( (elem in recommended_matrix) and ( not is_cached) ) :\n",
        "        corr_t[i] += 1\n",
        "      elif ( (elem not in recommended_matrix ) and (is_cached)) :\n",
        "        cached_t[i] += 1\n",
        "      else :\n",
        "        neither_t[i] +=1\n",
        "    for elem in b:\n",
        "      total_q_qf[i] += RL_QF.q_table[i,elem]\n",
        "      is_cached = get_cached(elem, env.cost)\n",
        "      if ( (elem in recommended_matrix) and (is_cached)) :\n",
        "        both_qf[i] += 1\n",
        "        mask_both_not_both_qf[i]=0\n",
        "      elif ( (elem in recommended_matrix) and ( not is_cached) ) :\n",
        "        corr_qf[i] += 1\n",
        "      elif ( (elem not in recommended_matrix ) and (is_cached)) :\n",
        "        cached_qf[i] += 1\n",
        "      else :\n",
        "        neither_qf[i] +=1  \n",
        "    if both_qf[i] > both_t[i]:\n",
        "      print(f\"found better solution at {i}\")\n",
        "    \n",
        "    if both_qf[i] < both_t[i]:\n",
        "      print(f\"found worse solution at {i}\")\n",
        "  #print(f\"Tabular q_matrix: {both_t[i]} both, {corr_t[i]} only corr, {cached_t[i]} cached only and {neither_t[i]} nothing\")\n",
        "  #print(f\"ALGO Q-L: {both_qf[i]} both, {corr_qf[i]} only corr, {cached_qf[i]} cached only and {neither_qf[i]} nothing\") \n",
        "  #print(f\"Q comparison: {total_q_t} tabular; {total_q_qf/2} ALGO\")\n",
        "    '''\n",
        "    if b[0] in a and b[1] in a:\n",
        "      j+=1\n",
        "    elif b[0] in a and b[1] not in a:\n",
        "      k+=1\n",
        "    elif b[1] in a and b[0] not in a:\n",
        "      k+=1\n",
        "    '''\n",
        "  else:\n",
        "    a=np.argsort(RL.q_table[i])[-1]\n",
        "    b = np.argsort(RL_QF.q_table[i])[-RL_QF.N:]\n",
        "    recommended_matrix = env.recommended[i]\n",
        "    total_q_t[i]=RL.q_table[i,np.argmax(RL.q_table[i])]\n",
        "    is_cached = get_cached(a, env.cost)\n",
        "    if ( (a in recommended_matrix) and (is_cached)) :\n",
        "      both_t[i] += 1\n",
        "    elif ( (a in recommended_matrix) and ( not is_cached) ) :\n",
        "      corr_t[i] += 1\n",
        "    elif ( (a not in recommended_matrix ) and (is_cached)) :\n",
        "      cached_t[i] += 1\n",
        "    else :\n",
        "      neither_t[i] +=1\n",
        "    \n",
        "    total_q_qf[i] += RL_QF.q_table[i,b]\n",
        "    is_cached = get_cached(b, env.cost)\n",
        "    if ( (b in recommended_matrix) and (is_cached)) :\n",
        "      both_qf[i] += 1\n",
        "      mask_both_not_both_qf[i]=0\n",
        "    elif ( (b in recommended_matrix) and ( not is_cached) ) :\n",
        "      corr_qf[i] += 1\n",
        "    elif ( (b not in recommended_matrix ) and (is_cached)) :\n",
        "      cached_qf[i] += 1\n",
        "    else :\n",
        "      neither_qf[i] +=1  \n",
        "    if both_qf[i] > both_t[i]:\n",
        "      print(f\"found better solution at {i}\")\n",
        "    \n",
        "    if both_qf[i] < both_t[i]:\n",
        "      print(f\"found worse solution at {i}\")\n",
        "    print(f\"{i}:\")  \n",
        "    print(f\"Tabular q_matrix ({a}): {both_t[i]} both, {corr_t[i]} only corr, {cached_t[i]} cached only and {neither_t[i]} nothing\")\n",
        "    print(f\"ALGO Q-L ({b}): {both_qf[i]} both, {corr_qf[i]} only corr, {cached_qf[i]} cached only and {neither_qf[i]} nothing\") \n",
        "\n",
        "  '''\n",
        "  if b[0]==a:\n",
        "    j += 1\n",
        "  '''\n",
        "\n",
        "total_q_qf = total_q_qf/RL_QF.N\n",
        "#print(f\"found {j} full matches and {k} partial matches out of {n_states}\")\n",
        "\n",
        "fig, ax = plt.subplots(figsize=(15,8))\n",
        "ax.bar(np.arange(n_states), total_q_qf, color='b', width=0.4,  )\n",
        "ax.bar(np.arange(n_states)-0.4, total_q_t, color='r', width=0.4 )\n",
        "ax.bar(np.arange(n_states), mask_both_not_both_qf, color='g', width=0.4,  )\n",
        "ax.legend([\"ALGO-QF\", \"Tabular\", \"both ALGO-QF suggestion only cached or corr\"])\n",
        "plt.title(\"Q-value of suggestions, given state. Gamma=0.9, n_recomm=1\")\n",
        "\n",
        "fig, bx = plt.subplots(figsize=(10,5))\n",
        "\n",
        "bx.bar([\"cached & correlated\", \"correlated only\", \"cached only\", \"none\"], [np.sum(both_qf), np.sum(corr_qf), np.sum(cached_qf), np.sum(neither_qf)], width=0.4)\n",
        "bx.bar([\"cached & correlated\", \"correlated only\", \"cached only\", \"none\"], [np.sum(both_t), np.sum(corr_t), np.sum(cached_t), np.sum(neither_t)],width=0.4, align=\"edge\")\n",
        "bx.legend([\"ALGO-QF\", \"Tabular\"])\n",
        "plt.title(\"Class of recommendation done\")\n",
        "\n",
        "\n",
        "#print(f\"found {j} full matches out of {n_states}\")"
      ],
      "execution_count": null,
      "outputs": []
    },
    {
      "cell_type": "markdown",
      "metadata": {
        "id": "UyW4Y1mqXJQl"
      },
      "source": [
        "### Comparision for n Recommendations"
      ]
    },
    {
      "cell_type": "code",
      "metadata": {
        "id": "H48BIQzEbFcw"
      },
      "source": [
        "RL_3 = Agent_n_recomm(\n",
        "                      n_actions=n_actions,\n",
        "                      n_states=n_states,\n",
        "                      alpha=0.6, \n",
        "                      gamma = 0.9, \n",
        "                      eps=1, \n",
        "                      n_recomm=4\n",
        "                      )\n",
        "\n",
        "time_train_3, episodes_3, steps_3, costs_3, all_rewards_3, all_penalties_3, all_f_3 = update(env, \n",
        "                                                                                             RL_3, \n",
        "                                                                                             max_iter = 100_000, \n",
        "                                                                                             threshold = -1,\n",
        "                                                                                             eps_decay=True\n",
        "                                                                                           )\n",
        "print(\"Total number of episodes: \", episodes_3)\n",
        "\n",
        "RL_3.plot_q_table()\n"
      ],
      "execution_count": null,
      "outputs": []
    },
    {
      "cell_type": "markdown",
      "metadata": {
        "id": "p944VXFT4o5_"
      },
      "source": [
        "#### ALGO-QF without Temperature Decay"
      ]
    },
    {
      "cell_type": "code",
      "metadata": {
        "id": "Rp6eOurTplc6",
        "colab": {
          "base_uri": "https://localhost:8080/",
          "height": 563
        },
        "outputId": "eb8f9347-b8da-484c-e7e8-b5feaa85422a"
      },
      "source": [
        "## Without Temperature Decay\n",
        "RL_QF_N_T_fixed = Agent_Multiple(n_actions=n_actions,\n",
        "                         n_states=n_states, \n",
        "                         alpha=0.6, \n",
        "                         gamma = 0.9, \n",
        "                         eps=0.1, \n",
        "                         n_recommended=4,\n",
        "                         delta=0.9,\n",
        "                         temperature=1e-6,\n",
        "                         end_decay=250_000,\n",
        "                         eps_threshold=150_000 \n",
        "                         )\n",
        "\n",
        "time_train, episodes, steps, costs, all_rewards_n_T_fixed, all_penalties_n_T_fixed, all_f_n_T_fixed = update_T(env, \n",
        "                                                                                                                RL_QF_N_T_fixed, \n",
        "                                                                                                                max_iter = 150_000,\n",
        "                                                                                                                #threshold = 0.005,\n",
        "                                                                                                                eps_decay=False,\n",
        "                                                                                                                temp_decay=False\n",
        "                                                                                                                )\n",
        "print(\"Total number of episodes: \", episodes)\n",
        "RL_QF_N_T_fixed.plot_q_table()\n",
        "RL_QF_N_T_fixed.plot_f_table()"
      ],
      "execution_count": null,
      "outputs": [
        {
          "output_type": "stream",
          "text": [
            "Total number of episodes:  150000\n"
          ],
          "name": "stdout"
        },
        {
          "output_type": "display_data",
          "data": {
            "image/png": "[encoded data removed]",
            "text/plain": [
              "<Figure size 432x288 with 2 Axes>"
            ]
          },
          "metadata": {
            "tags": [],
            "needs_background": "light"
          }
        },
        {
          "output_type": "display_data",
          "data": {
            "image/png": "[encoded data removed]",
            "text/plain": [
              "<Figure size 432x288 with 2 Axes>"
            ]
          },
          "metadata": {
            "tags": [],
            "needs_background": "light"
          }
        }
      ]
    },
    {
      "cell_type": "markdown",
      "metadata": {
        "id": "_MoMmlBM4nvQ"
      },
      "source": [
        "#### ALGO-QF with Temperature Decay"
      ]
    },
    {
      "cell_type": "code",
      "metadata": {
        "id": "r7uG5PZH40jW",
        "colab": {
          "base_uri": "https://localhost:8080/",
          "height": 563
        },
        "outputId": "990b2aaa-d460-4a0e-94c0-bdf9023310f4"
      },
      "source": [
        "## With Temperature Decay\n",
        "RL_QF_N_T = Agent_Multiple(n_actions=n_actions,\n",
        "                         n_states=n_states, \n",
        "                         alpha=0.6, \n",
        "                         gamma = 0.9, \n",
        "                         eps=0.1, \n",
        "                         n_recommended=4,\n",
        "                         delta=0.1,\n",
        "                         temperature=100,\n",
        "                         end_decay=250_000,\n",
        "                         eps_threshold=150_000\n",
        "                         )\n",
        "\n",
        "time_train, episodes, steps, costs, all_rewards_n_T, all_penalties_n_T, all_f_n_T = update_T(env, \n",
        "                                                                                            RL_QF_N_T, \n",
        "                                                                                            max_iter = 150_000, \n",
        "                                                                                            threshold = -1,\n",
        "                                                                                            eps_decay=False,\n",
        "                                                                                            temp_decay=True,\n",
        "                                                                                            )\n",
        "\n",
        "print(\"Total number of episodes: \", episodes)\n",
        "RL_QF_N_T.plot_q_table()\n",
        "RL_QF_N_T.plot_f_table()\n"
      ],
      "execution_count": null,
      "outputs": [
        {
          "output_type": "stream",
          "text": [
            "Total number of episodes:  150000\n"
          ],
          "name": "stdout"
        },
        {
          "output_type": "display_data",
          "data": {
            "image/png": "[encoded data removed]",
            "text/plain": [
              "<Figure size 432x288 with 2 Axes>"
            ]
          },
          "metadata": {
            "tags": [],
            "needs_background": "light"
          }
        },
        {
          "output_type": "display_data",
          "data": {
            "image/png": "[encoded data removed]",
            "text/plain": [
              "<Figure size 432x288 with 2 Axes>"
            ]
          },
          "metadata": {
            "tags": [],
            "needs_background": "light"
          }
        }
      ]
    },
    {
      "cell_type": "markdown",
      "metadata": {
        "id": "tyfosxmJ4q9Y"
      },
      "source": [
        "#### ALGO-QF with Max\n"
      ]
    },
    {
      "cell_type": "code",
      "metadata": {
        "id": "OKrIdooT40Wj",
        "colab": {
          "base_uri": "https://localhost:8080/",
          "height": 299
        },
        "outputId": "57a00bc5-1ce0-4142-c1b3-9dbaff6df191"
      },
      "source": [
        "## With Max\n",
        "RL_QF_N_Max = Agent_Multiple(n_actions=n_actions,\n",
        "                         n_states=n_states, \n",
        "                         alpha=0.6, \n",
        "                         gamma = 0.9, \n",
        "                         eps=0.1, \n",
        "                         n_recommended=4,\n",
        "                         delta=0.9,\n",
        "                         temperature=1e-6, \n",
        "                         useMax=True,\n",
        "                         end_decay=250_000,\n",
        "                         eps_threshold=150_000\n",
        "                         )\n",
        "\n",
        "time_train, episodes, steps, costs, all_rewards_n_Max, all_penalties_n_Max, all_f_n_Max = update_T(env, \n",
        "                                                                                                    RL_QF_N_Max, \n",
        "                                                                                                    max_iter = 150_000, \n",
        "                                                                                                    threshold = -1,\n",
        "                                                                                                    eps_decay=False,\n",
        "                                                                                                    temp_decay=False,\n",
        "                                                                                                    )\n",
        "\n",
        "print(\"Total number of episodes: \", episodes)\n",
        "RL_QF_N_Max.plot_q_table()\n",
        "# RL_QF_2_Max.plot_f_table()"
      ],
      "execution_count": null,
      "outputs": [
        {
          "output_type": "stream",
          "text": [
            "Total number of episodes:  150000\n"
          ],
          "name": "stdout"
        },
        {
          "output_type": "display_data",
          "data": {
            "image/png": "[encoded data removed]",
            "text/plain": [
              "<Figure size 432x288 with 2 Axes>"
            ]
          },
          "metadata": {
            "tags": [],
            "needs_background": "light"
          }
        }
      ]
    },
    {
      "cell_type": "code",
      "metadata": {
        "id": "AdE8isCKtGPh",
        "colab": {
          "base_uri": "https://localhost:8080/",
          "height": 281
        },
        "outputId": "d965d318-c0bb-45e4-c468-a07a393281ef"
      },
      "source": [
        "smoothed_rews = running_mean(all_rewards_n_T, 10000)\n",
        "plt.plot(smoothed_rews, label=\"ALGO-QF with temperature decay\")\n",
        "\n",
        "smoothed_rews = running_mean(all_rewards_n_T_fixed, 10000)\n",
        "plt.plot(smoothed_rews, label=\"ALGO-QF without temperature decay\")\n",
        "\n",
        "smoothed_rews = running_mean(all_rewards_n_Max, 10000)\n",
        "plt.plot(smoothed_rews, label=\"ALGO-QF with max\")\n",
        "\n",
        "plt.legend()\n",
        "plt.title(f\"Comparison for gamma=0.9, n_recommended=4, alpha={env.alpha}\")\n",
        "plt.grid(True)\n"
      ],
      "execution_count": null,
      "outputs": [
        {
          "output_type": "display_data",
          "data": {
            "image/png": "[encoded data removed]",
            "text/plain": [
              "<Figure size 432x288 with 1 Axes>"
            ]
          },
          "metadata": {
            "tags": [],
            "needs_background": "light"
          }
        }
      ]
    },
    {
      "cell_type": "code",
      "metadata": {
        "id": "xi784CF1fp7x"
      },
      "source": [
        "smoothed_rews = running_mean(all_rewards_n_3, 2000)\n",
        "plt.plot(smoothed_rews, label=\"ALGO-QF\")\n",
        "\n",
        "smoothed_rews = running_mean(all_rewards_3, 2000)\n",
        "plt.plot(smoothed_rews, label=\"Tabular Method\")\n",
        "\n",
        "plt.legend()\n",
        "plt.title(\"comparison for gamma=0.9, n_recommended=3\")\n",
        "plt.grid(True)"
      ],
      "execution_count": null,
      "outputs": []
    },
    {
      "cell_type": "code",
      "metadata": {
        "id": "Rhb-KdaP24_b"
      },
      "source": [
        "RL = RL_3\n",
        "RL_QF = RL_QF_3\n",
        "\n",
        "n_states = n_states2\n",
        "n_actions = n_actions2\n",
        "\n",
        "#env = env2\n",
        "cmp=\"multiple\"\n",
        "\n",
        "j=0\n",
        "k=0\n",
        "states=range(n_states)\n",
        "both_t=np.zeros(n_states)\n",
        "cached_t=np.zeros(n_states)\n",
        "corr_t=np.zeros(n_states)\n",
        "neither_t=np.zeros(n_states)\n",
        "total_q_t=np.zeros(n_states)\n",
        "both_qf =np.zeros(n_states)\n",
        "cached_qf=np.zeros(n_states)\n",
        "corr_qf=np.zeros(n_states)\n",
        "neither_qf=np.zeros(n_states)\n",
        "total_q_qf=np.zeros(n_states)\n",
        "mask_both_not_both_qf = np.ones(n_states)\n",
        "\n",
        "for i in range(n_states):\n",
        "  if cmp == \"multiple\":\n",
        "    a=RL.actions[np.argsort(RL.q_table[i])[-1]]\n",
        "    b = np.argsort(RL_QF.q_table[i])[-RL_QF.N:]\n",
        "    #print(f\"Tabular q_matrix: state {i}: action {a}\")\n",
        "    #print(f\"ALGO Q-L: state {i}: action {np.argsort(RL_QF.q_table[i])[-RL_QF.N:]}\")\n",
        "    recommended_matrix = env.recommended[i]\n",
        "    total_q_t[i]=RL.q_table[i,np.argmax(RL.q_table[i])]\n",
        "    for elem in a:\n",
        "      is_cached = get_cached(elem, env.cost)\n",
        "      if ( (elem in recommended_matrix) and (is_cached)) :\n",
        "        both_t[i] += 1\n",
        "      elif ( (elem in recommended_matrix) and ( not is_cached) ) :\n",
        "        corr_t[i] += 1\n",
        "      elif ( (elem not in recommended_matrix ) and (is_cached)) :\n",
        "        cached_t[i] += 1\n",
        "      else :\n",
        "        neither_t[i] +=1\n",
        "    for elem in b:\n",
        "      total_q_qf[i] += RL_QF.q_table[i,elem]\n",
        "      is_cached = get_cached(elem, env.cost)\n",
        "      if ( (elem in recommended_matrix) and (is_cached)) :\n",
        "        both_qf[i] += 1\n",
        "        mask_both_not_both_qf[i]=0\n",
        "      elif ( (elem in recommended_matrix) and ( not is_cached) ) :\n",
        "        corr_qf[i] += 1\n",
        "      elif ( (elem not in recommended_matrix ) and (is_cached)) :\n",
        "        cached_qf[i] += 1\n",
        "      else :\n",
        "        neither_qf[i] +=1  \n",
        "    if both_qf[i] > both_t[i]:\n",
        "      print(f\"found better solution at {i}\")\n",
        "    \n",
        "    if both_qf[i] < both_t[i]:\n",
        "      print(f\"found worse solution at {i}\")\n",
        "  #print(f\"Tabular q_matrix: {both_t[i]} both, {corr_t[i]} only corr, {cached_t[i]} cached only and {neither_t[i]} nothing\")\n",
        "  #print(f\"ALGO Q-L: {both_qf[i]} both, {corr_qf[i]} only corr, {cached_qf[i]} cached only and {neither_qf[i]} nothing\") \n",
        "  #print(f\"Q comparison: {total_q_t} tabular; {total_q_qf/2} ALGO\")\n",
        "    '''\n",
        "    if b[0] in a and b[1] in a:\n",
        "      j+=1\n",
        "    elif b[0] in a and b[1] not in a:\n",
        "      k+=1\n",
        "    elif b[1] in a and b[0] not in a:\n",
        "      k+=1\n",
        "    '''\n",
        "  else:\n",
        "    a=np.argsort(RL.q_table[i])[-1]\n",
        "    b = np.argsort(RL_QF.q_table[i])[-RL_QF.N:]\n",
        "    recommended_matrix = env.recommended[i]\n",
        "    total_q_t[i]=RL.q_table[i,np.argmax(RL.q_table[i])]\n",
        "    is_cached = get_cached(a, env.cost)\n",
        "    if ( (a in recommended_matrix) and (is_cached)) :\n",
        "      both_t[i] += 1\n",
        "    elif ( (a in recommended_matrix) and ( not is_cached) ) :\n",
        "      corr_t[i] += 1\n",
        "    elif ( (a not in recommended_matrix ) and (is_cached)) :\n",
        "      cached_t[i] += 1\n",
        "    else :\n",
        "      neither_t[i] +=1\n",
        "    \n",
        "    total_q_qf[i] += RL_QF.q_table[i,b]\n",
        "    is_cached = get_cached(b, env.cost)\n",
        "    if ( (b in recommended_matrix) and (is_cached)) :\n",
        "      both_qf[i] += 1\n",
        "      mask_both_not_both_qf[i]=0\n",
        "    elif ( (b in recommended_matrix) and ( not is_cached) ) :\n",
        "      corr_qf[i] += 1\n",
        "    elif ( (b not in recommended_matrix ) and (is_cached)) :\n",
        "      cached_qf[i] += 1\n",
        "    else :\n",
        "      neither_qf[i] +=1  \n",
        "    if both_qf[i] > both_t[i]:\n",
        "      print(f\"found better solution at {i}\")\n",
        "    \n",
        "    if both_qf[i] < both_t[i]:\n",
        "      print(f\"found worse solution at {i}\")\n",
        "    print(f\"{i}:\")  \n",
        "    print(f\"Tabular q_matrix ({a}): {both_t[i]} both, {corr_t[i]} only corr, {cached_t[i]} cached only and {neither_t[i]} nothing\")\n",
        "    print(f\"ALGO Q-L ({b}): {both_qf[i]} both, {corr_qf[i]} only corr, {cached_qf[i]} cached only and {neither_qf[i]} nothing\") \n",
        "\n",
        "  '''\n",
        "  if b[0]==a:\n",
        "    j += 1\n",
        "  '''\n",
        "\n",
        "total_q_qf = total_q_qf/RL_QF.N\n",
        "#print(f\"found {j} full matches and {k} partial matches out of {n_states}\")\n",
        "\n",
        "fig, ax = plt.subplots(figsize=(15,8))\n",
        "ax.bar(np.arange(n_states), total_q_qf, color='b', width=0.4,  )\n",
        "ax.bar(np.arange(n_states)-0.4, total_q_t, color='r', width=0.4 )\n",
        "ax.bar(np.arange(n_states), mask_both_not_both_qf, color='g', width=0.4,  )\n",
        "ax.legend([\"ALGO-QF\", \"Tabular\", \"both ALGO-QF suggestion only cached or corr\"])\n",
        "plt.title(\"Q-value of suggestions, given state. Gamma=0.5\")\n",
        "\n",
        "fig, bx = plt.subplots(figsize=(10,5))\n",
        "\n",
        "bx.bar([\"cached & correlated\", \"correlated only\", \"cached only\", \"none\"], [np.sum(both_qf), np.sum(corr_qf), np.sum(cached_qf), np.sum(neither_qf)], width=0.4)\n",
        "bx.bar([\"cached & correlated\", \"correlated only\", \"cached only\", \"none\"], [np.sum(both_t), np.sum(corr_t), np.sum(cached_t), np.sum(neither_t)],width=0.4, align=\"edge\")\n",
        "bx.legend([\"ALGO-QF\", \"Tabular\"])\n",
        "plt.title(\"Class of recommendation done\")\n",
        "\n",
        "\n",
        "#print(f\"found {j} full matches out of {n_states}\")"
      ],
      "execution_count": null,
      "outputs": []
    },
    {
      "cell_type": "markdown",
      "metadata": {
        "id": "xqU5EZVgfqXc"
      },
      "source": [
        "#####Previous tests"
      ]
    },
    {
      "cell_type": "code",
      "metadata": {
        "id": "LRphSD7et42N"
      },
      "source": [
        "RL_QF2 = Agent_Multiple(n_actions=n_actions,n_states=n_states, \n",
        "                        alpha=0.6, gamma = 0.9, eps=0.1, n_recommended=2, \n",
        "                       temperature=1_000, delta=0.9, custom=True )\n",
        "\n",
        "time_train, episodes, steps, costs, all_rewards_n2, all_penalties_n2 = update_T(env, RL_QF2, max_iter = 100_000, threshold = 0.00000001)\n",
        "print(\"Total number of episodes: \", episodes)\n",
        "RL_QF2.plot_q_table()\n",
        "#RL_QF2.plot_f_table()\n",
        "print(RL_QF2.T)"
      ],
      "execution_count": null,
      "outputs": []
    },
    {
      "cell_type": "code",
      "metadata": {
        "id": "5NTuglRK7H0B"
      },
      "source": [
        "smoothed_rews = running_mean(all_rewards_n2, 5000)\n",
        "plt.plot(smoothed_rews, label=\"new update\")\n",
        "\n",
        "smoothed_rews = running_mean(all_rewards_n, 5000)\n",
        "plt.plot(smoothed_rews, label=\"old T update\")\n",
        "\n",
        "smoothed_rews = running_mean(all_rewards, 5000)\n",
        "plt.plot(smoothed_rews, label=\"Tabular\")\n",
        "\n",
        "plt.legend()\n",
        "plt.title(\"2 recommendations\")\n",
        "plt.grid(True)"
      ],
      "execution_count": null,
      "outputs": []
    },
    {
      "cell_type": "code",
      "metadata": {
        "id": "wBxkiKrKuDYe"
      },
      "source": [
        "RL_QF3 = Agent_Multiple(n_actions=n_actions,n_states=n_states, \n",
        "                        alpha=0.6, gamma = 0.9, eps=0.1, n_recommended=2, \n",
        "                       temperature=10000, delta=0.6, custom=True)\n",
        "\n",
        "time_train, episodes, steps, costs, all_rewards_n3, all_penalties_n3 = update_T(env, RL_QF3, max_iter = 100_000, threshold = 0.00000001)\n",
        "print(\"Total number of episodes: \", episodes)\n",
        "RL_QF3.plot_q_table()\n",
        "#RL_QF3.plot_f_table()\n",
        "print(RL_QF3.T)"
      ],
      "execution_count": null,
      "outputs": []
    },
    {
      "cell_type": "code",
      "metadata": {
        "id": "geD3RdZCra6N"
      },
      "source": [
        "smoothed_rews = running_mean(all_rewards_n, 1000)\n",
        "plt.plot(smoothed_rews, label=\"T0=500\")\n",
        "\n",
        "smoothed_rews = running_mean(all_rewards_n3, 1000)\n",
        "plt.plot(smoothed_rews, label=\"T0=10_000\")\n",
        "\n",
        "smoothed_rews = running_mean(all_rewards_n2, 1000)\n",
        "plt.plot(smoothed_rews, label=\"T0=1_000\")\n",
        "\n",
        "plt.legend()\n",
        "plt.title(\"Different T0, T_final=e-30\")\n",
        "plt.grid(True)"
      ],
      "execution_count": null,
      "outputs": []
    },
    {
      "cell_type": "code",
      "metadata": {
        "id": "2P7p8x0OxKuW"
      },
      "source": [
        "print(RL_QF.T)"
      ],
      "execution_count": null,
      "outputs": []
    },
    {
      "cell_type": "markdown",
      "metadata": {
        "id": "dh0VPXe_FKSo"
      },
      "source": [
        "### Plotting Rewards and Penalties"
      ]
    },
    {
      "cell_type": "code",
      "metadata": {
        "id": "zZ-IssEME8vv"
      },
      "source": [
        "env = Environment(\n",
        "        n_actions=20,\n",
        "        n_states=20,\n",
        "        alpha=0.6, \n",
        "        to_leave=0.1, \n",
        "        n_recommended=8,\n",
        "        n_cached=4,\n",
        "        rewards = [2,1,1,0],\n",
        "        SEED=777\n",
        "    )\n",
        "\n",
        "gamma_list = [0, 0.9]\n",
        "\n",
        "reward_gamma, penalty_gamma, Agents = loop_gamma(env, alpha=0.2,epsilon=0.1,max_iter=100000, v1=False, threshold=0.0001, gammas=gamma_list, n_recomm=5)"
      ],
      "execution_count": null,
      "outputs": []
    },
    {
      "cell_type": "code",
      "metadata": {
        "id": "M_-xX_I1d-3g"
      },
      "source": [
        "plot_reward_loss_gamma(reward_gamma,run_mean = 2000, gammas = gamma_list,name = 'Rewards')"
      ],
      "execution_count": null,
      "outputs": []
    },
    {
      "cell_type": "code",
      "metadata": {
        "id": "E7IXsVPKeUWC"
      },
      "source": [
        "plot_reward_loss_gamma(penalty_gamma,run_mean = 10000, gammas = gamma_list,name = 'Penalties')"
      ],
      "execution_count": null,
      "outputs": []
    },
    {
      "cell_type": "code",
      "metadata": {
        "id": "y16lsUtSfOJH"
      },
      "source": [
        "Agents[0].plot_q_table()\n",
        "Agents[0].plot_f_table()\n"
      ],
      "execution_count": null,
      "outputs": []
    },
    {
      "cell_type": "code",
      "metadata": {
        "id": "FSRrJJYLGiQy"
      },
      "source": [
        "Agents[1].plot_q_table()\n",
        "Agents[1].plot_f_table()"
      ],
      "execution_count": null,
      "outputs": []
    },
    {
      "cell_type": "code",
      "metadata": {
        "id": "hjgssfqUUVUS"
      },
      "source": [
        "Agents[1].gamma"
      ],
      "execution_count": null,
      "outputs": []
    },
    {
      "cell_type": "code",
      "metadata": {
        "id": "Ckhdq0DuUhnr"
      },
      "source": [
        "plot_notated_matrix(env.u, fig_size=(20, 20))"
      ],
      "execution_count": null,
      "outputs": []
    },
    {
      "cell_type": "code",
      "metadata": {
        "id": "PrcFmplIkD2i"
      },
      "source": [
        "from itertools import combinations\n",
        "a = list(combinations(range(6),2))\n",
        "print(a)\n",
        "\n",
        "\n",
        "action=[]\n",
        "\n",
        "q_table=[0,2,44,12,32,3,1,2,3,9,24,23,12,3,2]\n",
        "\n",
        "index = np.argmax(q_table)\n",
        "b = a[index] \n",
        "print(b)\n",
        "for elem in b:\n",
        "  action.append(elem)\n",
        "print(action)\n",
        "\n",
        "print(a.index((action[0],action[1])))"
      ],
      "execution_count": null,
      "outputs": []
    },
    {
      "cell_type": "code",
      "metadata": {
        "id": "IxyVa2Xkydrr"
      },
      "source": [
        "RL_QF3 = Agent_Multiple(n_actions=n_actions,n_states=n_states, \n",
        "                        alpha=0.6, gamma = 0.9, eps=0.1, n_recommended=2, \n",
        "                       temperature=1000, delta=0.4, )\n",
        "\n",
        "time_train, episodes, steps, costs, all_rewards_n3, all_penalties_n3 = update_T(env, RL_QF3, max_iter = 100_000, threshold = 0.00000001)\n",
        "print(\"Total number of episodes: \", episodes)\n",
        "RL_QF3.plot_q_table()\n",
        "#RL_QF3.plot_f_table()\n",
        "print(RL_QF3.T)"
      ],
      "execution_count": null,
      "outputs": []
    },
    {
      "cell_type": "code",
      "metadata": {
        "id": "k-99xgYOy_99"
      },
      "source": [
        "RL_QF3.plot_f_table() \n"
      ],
      "execution_count": null,
      "outputs": []
    },
    {
      "cell_type": "code",
      "metadata": {
        "id": "j-e_xeWOPvjl"
      },
      "source": [
        "a = [1,(1,2),2,3,4]\n",
        "b = [5,6,7,8]\n",
        "\n",
        "np.concatenate((a,b))"
      ],
      "execution_count": null,
      "outputs": []
    },
    {
      "cell_type": "code",
      "metadata": {
        "id": "DqqvTw5kP1_P"
      },
      "source": [
        "a.index((1,2))"
      ],
      "execution_count": null,
      "outputs": []
    },
    {
      "cell_type": "code",
      "metadata": {
        "id": "VtAQJsgCXssz"
      },
      "source": [
        "c  =tuple(b)\n",
        "\n",
        "c"
      ],
      "execution_count": null,
      "outputs": []
    },
    {
      "cell_type": "code",
      "metadata": {
        "id": "Vk5E1LpHYHmO"
      },
      "source": [
        "a = [0,5,5,5,5]\n",
        "np.argsort(a)\n",
        "\n",
        "c = list(combinations(range(5), 2))\n",
        "c\n",
        "\n",
        "d= [2.5, 2.5, 2.5, 2.5, 5, 5, 5, 5, 5, 5]\n",
        "\n",
        "i = np.argsort(d)[-1]\n",
        "\n",
        "print(c[i])\n",
        "print(np.argsort(a)[-2:])"
      ],
      "execution_count": null,
      "outputs": []
    },
    {
      "cell_type": "markdown",
      "metadata": {
        "id": "80EMoTeahBuY"
      },
      "source": [
        "## Class aware User (Sport vs Art)"
      ]
    },
    {
      "cell_type": "code",
      "metadata": {
        "id": "9ZpnnW1dhJl9"
      },
      "source": [
        "n_actions = 50\n",
        "n_states = 50\n",
        "\n",
        "u_classes = np.zeros([n_states,n_states])\n",
        "for i in range(25):\n",
        "  for j in range(25):\n",
        "    if i != j:\n",
        "      u_classes[i,j] = 1\n",
        "\n",
        "for i in range(25,50):\n",
        "  for j in range(25,50):\n",
        "    if i != j:\n",
        "      u_classes[i,j] = 1\n",
        "\n",
        "\n",
        "env_class_sport = Environment(n_actions=n_actions, \n",
        "                              n_states=n_states, \n",
        "                              alpha=0.6, \n",
        "                              to_leave=0.1,\n",
        "                              n_recommended=7, \n",
        "                              n_cached=5, \n",
        "                              rewards=[2,1,1,0], \n",
        "                              SEED=77, \n",
        "                              user_type=\"subset_interested\",\n",
        "                              choice_offset_start=0, \n",
        "                              choice_offset_end=25, \n",
        "                              u=u_classes)\n",
        "\n",
        "env_class_art = Environment(n_actions=n_actions, \n",
        "                            n_states=n_states, \n",
        "                            alpha=0.6, \n",
        "                            to_leave=0.1,\n",
        "                            n_recommended=7, \n",
        "                            n_cached=5, \n",
        "                            rewards=[2,1,1,0], \n",
        "                            SEED=77, \n",
        "                            user_type=\"subset_interested\",\n",
        "                            choice_offset_start=25, \n",
        "                            choice_offset_end=50, \n",
        "                            u=u_classes)\n",
        "\n",
        "#RL.plot_results(steps, all_costs)"
      ],
      "execution_count": null,
      "outputs": []
    },
    {
      "cell_type": "markdown",
      "metadata": {
        "id": "jZ0aMvophvlo"
      },
      "source": [
        "### 1 recommendation"
      ]
    },
    {
      "cell_type": "markdown",
      "metadata": {
        "id": "FzmAJbrCEz6p"
      },
      "source": [
        "####Random recommender"
      ]
    },
    {
      "cell_type": "code",
      "metadata": {
        "id": "IR9maa1IE2dN"
      },
      "source": [
        "'''\n",
        "Agent class that always recommend a randomized item:\n",
        "no learning here!\n",
        "\n",
        "Used to get the mean reward in order to compare with our RL mean reward\n",
        "Compare also costs and length of episodes\n",
        "'''\n",
        "\n",
        "class Randomic_choice:\n",
        "  def __init__(self, n_states, n_actions, max_iter=50000):\n",
        "    self.n_actions = n_actions\n",
        "    self.n_states = n_states\n",
        "    self.max_iter = max_iter\n",
        "  \n",
        "\n",
        "  def choose_action(self, state):\n",
        "    action = []\n",
        "    action.append(random.randint(0, self.n_actions-1))\n",
        "    return np.array(action)          \n",
        "            \n",
        "  def update_random(self, env):\n",
        "    \"\"\"\n",
        "    Parameters\n",
        "    ---------\n",
        "    env: Environment\n",
        "\n",
        "    Returns\n",
        "    -------\n",
        "    time_train: time to execute the method\n",
        "    episodes: total number of episodes runned \n",
        "    steps: steps performed for each episode\n",
        "    costs: differences of errors between two episodes\n",
        "    all_rewards: Average Rewards \n",
        "    all_penalties: Average penalties, defined as negative rewards\n",
        "    \n",
        "    \"\"\"\n",
        "    # Number of steps per episode\n",
        "    steps = []\n",
        "    \n",
        "    episodes = 0\n",
        "        \n",
        "    before_time = time.time()\n",
        "    \n",
        "    all_rewards = []\n",
        "    all_penalties = []\n",
        "    \n",
        "    while( (episodes < self.max_iter) ) :\n",
        "        \n",
        "        # Initialize the state\n",
        "        state = env.refresh()\n",
        "        i = 0\n",
        "        \n",
        "        done = False\n",
        "        \n",
        "        # Teacker for rewards and penalties\n",
        "        current_reward = 0\n",
        "        current_penalty = 0\n",
        "        \n",
        "        while not done:\n",
        "            action = self.choose_action(state)\n",
        "            \n",
        "            next_state, reward, done = env.step(action, state)\n",
        "            \n",
        "            if ( (next_state is None) or (action is None)  ) :\n",
        "                # We stop when the user leaves the process\n",
        "                break\n",
        "\n",
        "            # Go to the next state\n",
        "            state = next_state\n",
        "            \n",
        "            # Calculating number of Steps in the current Episode\n",
        "            i += 1\n",
        "            \n",
        "            # Append the Reward\n",
        "            current_reward += reward\n",
        "            \n",
        "            # Define the penalty for negative rewards\n",
        "            if reward == env.rewards[-1] : \n",
        "                current_penalty +=1\n",
        "            \n",
        "        steps += [i]\n",
        "        episodes += 1\n",
        "        \n",
        "        # Append the rewards and Penalties\n",
        "        if i != 0:\n",
        "          all_penalties.append(current_penalty/(i))\n",
        "          all_rewards.append(current_reward/(i))\n",
        "\n",
        "        \n",
        "        if episodes%1000 == 0 :\n",
        "            print('Episodes : ', episodes, \" / \", self.max_iter)\n",
        "            clear_output(True)\n",
        "        \n",
        "    time_train =  time.time() - before_time\n",
        "\n",
        "    return time_train, episodes, steps, all_rewards, all_penalties"
      ],
      "execution_count": null,
      "outputs": []
    },
    {
      "cell_type": "code",
      "metadata": {
        "id": "8iRgRKt1E4OM"
      },
      "source": [
        "randomic_agent =  Randomic_choice(n_actions=n_actions,n_states=n_states, max_iter=100000)\n",
        "\n",
        "time_train, episodes, steps, all_rewards_random, all_penalties_random = randomic_agent.update_random(env_class_sport)"
      ],
      "execution_count": null,
      "outputs": []
    },
    {
      "cell_type": "markdown",
      "metadata": {
        "id": "g8hMF2AXhzBv"
      },
      "source": [
        "#### Oracle"
      ]
    },
    {
      "cell_type": "code",
      "metadata": {
        "id": "AGWa9SeVh1_C",
        "colab": {
          "base_uri": "https://localhost:8080/",
          "height": 299
        },
        "outputId": "46ca786d-9ddf-4908-c804-0d09e5917e37"
      },
      "source": [
        "RL_1_sport = Agent(n_actions=n_actions,\n",
        "             n_states=n_states,\n",
        "             alpha=0.6, \n",
        "             gamma = 0.9, \n",
        "             eps=1,\n",
        "             )\n",
        "\n",
        "time_train, episodes, steps, costs, all_rewards_1_s, all_penalties_1, all_f_1 = update(env_class_sport, \n",
        "                                                                               RL_1_sport, \n",
        "                                                                               max_iter = 80_000, \n",
        "                                                                               threshold = -1,\n",
        "                                                                               eps_decay=True\n",
        "                                                                               )\n",
        "print(\"Total number of episodes: \", episodes)\n",
        "\n",
        "RL_1_sport.plot_q_table()"
      ],
      "execution_count": null,
      "outputs": [
        {
          "output_type": "stream",
          "text": [
            "Total number of episodes:  80000\n"
          ],
          "name": "stdout"
        },
        {
          "output_type": "display_data",
          "data": {
            "image/png": "[encoded data removed]",
            "text/plain": [
              "<Figure size 432x288 with 2 Axes>"
            ]
          },
          "metadata": {
            "tags": [],
            "needs_background": "light"
          }
        }
      ]
    },
    {
      "cell_type": "code",
      "metadata": {
        "id": "so33s9aZjkeJ",
        "colab": {
          "base_uri": "https://localhost:8080/",
          "height": 299
        },
        "outputId": "5f265054-e3ee-4f24-9ee6-a9f144a1e523"
      },
      "source": [
        "RL_1_art = Agent(n_actions=n_actions,\n",
        "             n_states=n_states,\n",
        "             alpha=0.6, \n",
        "             gamma = 0.9, \n",
        "             eps=1,\n",
        "             )\n",
        "\n",
        "time_train, episodes, steps, costs, all_rewards_1_a, all_penalties_1, all_f_1 = update(env_class_art, \n",
        "                                                                               RL_1_art, \n",
        "                                                                               max_iter = 80_000, \n",
        "                                                                               threshold = -1,\n",
        "                                                                               eps_decay=True\n",
        "                                                                               )\n",
        "print(\"Total number of episodes: \", episodes)\n",
        "\n",
        "RL_1_art.plot_q_table()"
      ],
      "execution_count": null,
      "outputs": [
        {
          "output_type": "stream",
          "text": [
            "Total number of episodes:  80000\n"
          ],
          "name": "stdout"
        },
        {
          "output_type": "display_data",
          "data": {
            "image/png": "[encoded data removed]",
            "text/plain": [
              "<Figure size 432x288 with 2 Axes>"
            ]
          },
          "metadata": {
            "tags": [],
            "needs_background": "light"
          }
        }
      ]
    },
    {
      "cell_type": "markdown",
      "metadata": {
        "id": "BWPa0L4gXfTv"
      },
      "source": [
        "#### ALGO-QF (single recomm)"
      ]
    },
    {
      "cell_type": "code",
      "metadata": {
        "id": "4ljGP1V0XS_a",
        "colab": {
          "base_uri": "https://localhost:8080/",
          "height": 563
        },
        "outputId": "1cb35eb6-b7da-4bb2-9096-daf913cd56f1"
      },
      "source": [
        "RL_QF_1_sport = Agent_Multiple(n_actions=n_actions,\n",
        "                         n_states=n_states, \n",
        "                         alpha=0.6, \n",
        "                         gamma = 0.9,\n",
        "                         delta=0.1, \n",
        "                         eps=1, \n",
        "                         n_recommended=1,\n",
        "                         )\n",
        "\n",
        "time_train, episodes, steps, costs, all_rewards_n_1_s, all_penalties_n_1, all_f_n_1 = update_T(env_class_sport, \n",
        "                                                                                       RL_QF_1_sport, \n",
        "                                                                                       max_iter = 80_000, \n",
        "                                                                                       threshold = -1,\n",
        "                                                                                       temp_decay=True,\n",
        "                                                                                       eps_decay=True\n",
        "                                                                                       )\n",
        "print(\"Total number of episodes: \", episodes)\n",
        "RL_QF_1_sport.plot_q_table()\n",
        "RL_QF_1_sport.plot_f_table()"
      ],
      "execution_count": null,
      "outputs": [
        {
          "output_type": "stream",
          "text": [
            "Total number of episodes:  80000\n"
          ],
          "name": "stdout"
        },
        {
          "output_type": "display_data",
          "data": {
            "image/png": "[encoded data removed]",
            "text/plain": [
              "<Figure size 432x288 with 2 Axes>"
            ]
          },
          "metadata": {
            "tags": [],
            "needs_background": "light"
          }
        },
        {
          "output_type": "display_data",
          "data": {
            "image/png": "[encoded data removed]",
            "text/plain": [
              "<Figure size 432x288 with 2 Axes>"
            ]
          },
          "metadata": {
            "tags": [],
            "needs_background": "light"
          }
        }
      ]
    },
    {
      "cell_type": "code",
      "metadata": {
        "id": "YtnDkiW0iKQL",
        "colab": {
          "base_uri": "https://localhost:8080/",
          "height": 563
        },
        "outputId": "051fe4fe-1ca4-494e-b00f-9ac434476018"
      },
      "source": [
        "RL_QF_1_art = Agent_Multiple(n_actions=n_actions,\n",
        "                         n_states=n_states, \n",
        "                         alpha=0.6, \n",
        "                         gamma = 0.9, \n",
        "                         delta=0.1,\n",
        "                         eps=1, \n",
        "                         n_recommended=1,\n",
        "                         )\n",
        "\n",
        "time_train, episodes, steps, costs, all_rewards_n_1_a, all_penalties_n_1, all_f_n_1 = update_T(env_class_art, \n",
        "                                                                                       RL_QF_1_art, \n",
        "                                                                                       max_iter = 80_000, \n",
        "                                                                                       threshold = -1,\n",
        "                                                                                       temp_decay=True,\n",
        "                                                                                       eps_decay=True\n",
        "                                                                                       )\n",
        "print(\"Total number of episodes: \", episodes)\n",
        "RL_QF_1_art.plot_q_table()\n",
        "RL_QF_1_art.plot_f_table()"
      ],
      "execution_count": null,
      "outputs": [
        {
          "output_type": "stream",
          "text": [
            "Total number of episodes:  80000\n"
          ],
          "name": "stdout"
        },
        {
          "output_type": "display_data",
          "data": {
            "image/png": "[encoded data removed]",
            "text/plain": [
              "<Figure size 432x288 with 2 Axes>"
            ]
          },
          "metadata": {
            "tags": [],
            "needs_background": "light"
          }
        },
        {
          "output_type": "display_data",
          "data": {
            "image/png": "[encoded data removed]",
            "text/plain": [
              "<Figure size 432x288 with 2 Axes>"
            ]
          },
          "metadata": {
            "tags": [],
            "needs_background": "light"
          }
        }
      ]
    },
    {
      "cell_type": "code",
      "metadata": {
        "id": "8PlwDJ89bkuR",
        "colab": {
          "base_uri": "https://localhost:8080/",
          "height": 281
        },
        "outputId": "cd667a50-9407-4f7a-af34-691de7d23eae"
      },
      "source": [
        "smoothed_rews = running_mean(all_rewards_n_1_s, 2000)\n",
        "plt.plot(smoothed_rews, label=\"ALGO-QF temperature decay\")\n",
        "\n",
        "#smoothed_rews = running_mean(all_rewards_n_T_fixed, 1000)\n",
        "#plt.plot(smoothed_rews, label=\"ALGO-QF without temperature decay\")\n",
        "\n",
        "smoothed_rews = running_mean(all_rewards_1_s, 2000)\n",
        "plt.plot(smoothed_rews, label=\"Oracle\")\n",
        "\n",
        "#smoothed_rews = running_mean(all_rewards_random, 2000)\n",
        "#plt.plot(smoothed_rews, label=\"Random recommender\")\n",
        "\n",
        "# smoothed_rews = running_mean(all_rewards, 2000)\n",
        "# plt.plot(smoothed_rews, label=\"Tabular with epsilon decay\")\n",
        "\n",
        "plt.legend()\n",
        "plt.title(\"Comparison for gamma=0.9, n_recommended=1, sport User\")\n",
        "plt.grid(True)"
      ],
      "execution_count": null,
      "outputs": [
        {
          "output_type": "display_data",
          "data": {
            "image/png": "[encoded data removed]",
            "text/plain": [
              "<Figure size 432x288 with 1 Axes>"
            ]
          },
          "metadata": {
            "tags": [],
            "needs_background": "light"
          }
        }
      ]
    },
    {
      "cell_type": "code",
      "metadata": {
        "id": "L0mxrfTqervX"
      },
      "source": [
        "all_f_n_1"
      ],
      "execution_count": null,
      "outputs": []
    },
    {
      "cell_type": "markdown",
      "metadata": {
        "id": "kwIQ9QwQsYRL"
      },
      "source": [
        "###Class user, 2 recommendations"
      ]
    },
    {
      "cell_type": "markdown",
      "metadata": {
        "id": "dozOsWTUOtnj"
      },
      "source": [
        "####Oracle"
      ]
    },
    {
      "cell_type": "code",
      "metadata": {
        "id": "vRzySFKXsckW"
      },
      "source": [
        "#With Epsilon Decay\n",
        "RL_2_eps_s = Agent_n_recomm(\n",
        "                      n_actions=n_actions,\n",
        "                      n_states=n_states,\n",
        "                      alpha=0.6, \n",
        "                      gamma = 0.9, \n",
        "                      eps=1, \n",
        "                      n_recomm=2,\n",
        "                      # end_decay=300_000,\n",
        "                      # eps_threshold=100_000\n",
        "                      # custom=True\n",
        "                      )\n",
        "\n",
        "time_train, episodes, steps, costs, all_rewards_eps_s, all_penalties_eps, all_f_eps = update(env_class_sport, \n",
        "                                                                                            RL_2_eps_s, \n",
        "                                                                                            max_iter = 100_000, \n",
        "                                                                                            threshold = -1,\n",
        "                                                                                            eps_decay=True\n",
        "                                                                                            )\n",
        "\n",
        "print(\"Total number of episodes: \", episodes)\n",
        "\n",
        "RL_2_eps_s.plot_q_table()\n"
      ],
      "execution_count": null,
      "outputs": []
    },
    {
      "cell_type": "markdown",
      "metadata": {
        "id": "ey5j7zfkOxVt"
      },
      "source": [
        "#### ALGO-QF"
      ]
    },
    {
      "cell_type": "code",
      "metadata": {
        "id": "LnU_m42fsdcS"
      },
      "source": [
        "RL_QF_2_T_s = Agent_Multiple(n_actions=n_actions,\n",
        "                         n_states=n_states, \n",
        "                         alpha=0.6, \n",
        "                         gamma = 0.9, \n",
        "                         eps=1, \n",
        "                         n_recommended=2,\n",
        "                         delta=0.9,\n",
        "                         temperature=100,\n",
        "                        #  custom = True\n",
        "                        #  end_decay=300_000,\n",
        "                        #eps_threshold=6_000\n",
        "                         )\n",
        "\n",
        "time_train, episodes, steps, costs, all_rewards_n_T_s, all_penalties_n_T, all_f_n_T = update_T(env_class_sport, \n",
        "                                                                                            RL_QF_2_T_s, \n",
        "                                                                                            max_iter = 100_000, \n",
        "                                                                                            threshold = -1,\n",
        "                                                                                            eps_decay=True,\n",
        "                                                                                            temp_decay=True,\n",
        "                                                                                            )\n",
        "\n",
        "print(\"Total number of episodes: \", episodes)\n",
        "RL_QF_2_T_s.plot_q_table()\n",
        "RL_QF_2_T_s.plot_f_table()\n"
      ],
      "execution_count": null,
      "outputs": []
    },
    {
      "cell_type": "markdown",
      "metadata": {
        "id": "Zc-wy0dwO1jU"
      },
      "source": [
        "#### ALGO-QF fixed Temperature"
      ]
    },
    {
      "cell_type": "code",
      "metadata": {
        "id": "ymavPIxrsdOX"
      },
      "source": [
        "RL_QF_2_T_fixed_s = Agent_Multiple(n_actions=n_actions,\n",
        "                         n_states=n_states, \n",
        "                         alpha=0.6, \n",
        "                         gamma = 0.9, \n",
        "                         eps=1, \n",
        "                         n_recommended=2,\n",
        "                         delta=0.9,\n",
        "                         temperature=1e-6,\n",
        "                        #  end_decay=100_000,\n",
        "                         #eps_threshold=_000 \n",
        "                         )\n",
        "\n",
        "time_train, episodes, steps, costs, all_rewards_n_T_fixed_s, all_penalties_n_T_fixed, all_f_n_T_fixed = update_T(env_class_sport, \n",
        "                                                                                                                RL_QF_2_T_fixed_s, \n",
        "                                                                                                                max_iter = 100_000,\n",
        "                                                                                                                threshold = -1,\n",
        "                                                                                                                eps_decay=True,\n",
        "                                                                                                                temp_decay=False\n",
        "                                                                                                                )\n",
        "print(\"Total number of episodes: \", episodes)\n",
        "RL_QF_2_T_fixed_s.plot_q_table()\n",
        "RL_QF_2_T_fixed_s.plot_f_table()"
      ],
      "execution_count": null,
      "outputs": []
    },
    {
      "cell_type": "markdown",
      "metadata": {
        "id": "r1eF_8JHO5p4"
      },
      "source": [
        "####ALGO-QF with Max"
      ]
    },
    {
      "cell_type": "code",
      "metadata": {
        "id": "0AZiITDNsdCt"
      },
      "source": [
        "## With Max\n",
        "RL_QF_2_Max_s = Agent_Multiple(n_actions=n_actions,\n",
        "                         n_states=n_states, \n",
        "                         alpha=0.6, \n",
        "                         gamma = 0.9, \n",
        "                         eps=1, \n",
        "                         n_recommended=2,\n",
        "                         delta=0.9,\n",
        "                         temperature=1e-6, \n",
        "                         useMax=True,\n",
        "                        #  end_decay=300_000,\n",
        "                         #eps_threshold=7_000\n",
        "                         )\n",
        "\n",
        "time_train, episodes, steps, costs, all_rewards_n_Max_s, all_penalties_n_Max, all_f_n_Max = update_T(env_class_sport, \n",
        "                                                                                                    RL_QF_2_Max_s, \n",
        "                                                                                                    max_iter = 100_000, \n",
        "                                                                                                    threshold = -1,\n",
        "                                                                                                    eps_decay=True,\n",
        "                                                                                                    temp_decay=False,\n",
        "                                                                                                    )\n",
        "\n",
        "print(\"Total number of episodes: \", episodes)\n",
        "RL_QF_2_Max_s.plot_q_table()\n",
        "# RL_QF_2_Max.plot_f_table()"
      ],
      "execution_count": null,
      "outputs": []
    },
    {
      "cell_type": "code",
      "metadata": {
        "id": "97zfdOEPsc4O"
      },
      "source": [
        "smoothed_rews = running_mean(all_rewards_n_T_s, 1000)\n",
        "plt.plot(smoothed_rews, label=\"ALGO-QF with temperature decay\")\n",
        "\n",
        "smoothed_rews = running_mean(all_rewards_n_T_fixed_s, 1000)\n",
        "plt.plot(smoothed_rews, label=\"ALGO-QF without temperature decay\")\n",
        "\n",
        "smoothed_rews = running_mean(all_rewards_n_Max_s, 1000)\n",
        "plt.plot(smoothed_rews, label=\"ALGO-QF with max\")\n",
        "\n",
        "smoothed_rews = running_mean(all_rewards_eps_s, 2000)\n",
        "plt.plot(smoothed_rews, label=\"Oracle with epsilon decay\")\n",
        "\n",
        "\n",
        "plt.legend()\n",
        "plt.title(f\"Comparison for gamma=0.9, n_recommended=2, art user\")\n",
        "plt.grid(True)"
      ],
      "execution_count": null,
      "outputs": []
    },
    {
      "cell_type": "markdown",
      "metadata": {
        "id": "c5TKHLCjPMba"
      },
      "source": [
        "#### Check class recommended"
      ]
    },
    {
      "cell_type": "code",
      "metadata": {
        "id": "yvfywXbMxc0k",
        "colab": {
          "base_uri": "https://localhost:8080/",
          "height": 336
        },
        "outputId": "a7e74a6d-4b31-4652-cb21-de6af20594da"
      },
      "source": [
        "TYPE = \"SPORT\" \n",
        "#TYPE = \"ART\"\n",
        "\n",
        "COMPARISON = \"RESTRICTED\"\n",
        "\n",
        "if TYPE == \"SPORT\":\n",
        "  env = env_class_sport\n",
        "elif TYPE == \"ART\":\n",
        "  env = env_class_art\n",
        "\n",
        "start_offset= env.choice_offset_start;\n",
        "end_offset = env.choice_offset_end\n",
        "cmp=\"single\"\n",
        "\n",
        "j=0\n",
        "k=0\n",
        "sport_t=0\n",
        "art_t=0\n",
        "sport_qf=0\n",
        "art_qf=0\n",
        "sport_qf_t_fixed=0\n",
        "art_qf_t_fixed =0\n",
        "sport_qf_max=0\n",
        "art_qf_max=0\n",
        "\n",
        "#for i in range(n_states):\n",
        "for i in range(start_offset, end_offset):\n",
        "\n",
        "  if cmp == \"multiple\":\n",
        "    if TYPE == \"SPORT\": \n",
        "      RL = RL_2_eps_s\n",
        "      RL_QF_TFIXED = RL_QF_2_T_fixed_s\n",
        "      RL_QF = RL_QF_2_T_s\n",
        "      RL_QF_MAX = RL_QF_2_Max_s\n",
        "    else:\n",
        "      RL = RL_2_eps_s\n",
        "      RL_QF_TFIXED = RL_QF_2_T_fixed_s\n",
        "      RL_QF = RL_QF_2_T_s\n",
        "      RL_QF_MAX = RL_QF_2_Max_s\n",
        "    a=RL.actions[np.argsort(RL.q_table[i])[-1]]\n",
        "    b = np.argsort(RL_QF.q_table[i])[-RL_QF.N:]\n",
        "    c = np.argsort(RL_QF_TFIXED.q_table[i])[-RL_QF_TFIXED.N:]\n",
        "    d = np.argsort(RL_QF_MAX.q_table[i])[-RL_QF_MAX.N:]\n",
        "    \n",
        "    for elem in a:\n",
        "      if elem <25:\n",
        "        sport_t +=1\n",
        "      else:\n",
        "        art_t +=1\n",
        "    for elem in b:\n",
        "      if elem <25:\n",
        "        sport_qf +=1\n",
        "      else:\n",
        "        art_qf +=1\n",
        "    for elem in c:\n",
        "      if elem <25:\n",
        "        sport_qf_t_fixed +=1\n",
        "      else:\n",
        "        art_qf_t_fixed +=1\n",
        "    for elem in d:\n",
        "      if elem <25:\n",
        "        sport_qf_max +=1\n",
        "      else:\n",
        "        art_qf_max +=1\n",
        "    \n",
        "  else:\n",
        "    if TYPE == \"SPORT\": \n",
        "      RL = RL_1_sport\n",
        "      RL_QF = RL_QF_1_sport \n",
        "    elif TYPE == \"ART\":\n",
        "      RL = RL_1_art\n",
        "      RL_QF = RL_QF_1_art \n",
        "    a=np.argsort(RL.q_table[i])[-1]\n",
        "    b = np.argsort(RL_QF.q_table[i])[-RL_QF.N:]\n",
        "    if a <25:\n",
        "      sport_t +=1\n",
        "    else:\n",
        "      art_t +=1\n",
        "    if b <25:\n",
        "      sport_qf +=1\n",
        "    else:\n",
        "      art_qf +=1\n",
        "\n",
        "labels=[\"Sport\", \"Art\"]\n",
        "x = np.arange(len(labels))\n",
        "if cmp == \"multiple\":\n",
        "  fig, bx = plt.subplots(figsize=(10,5))\n",
        "  \n",
        "  bx.bar(x-0.2, [sport_t, art_t], width=0.2)\n",
        "  bx.bar(x-0.1, [sport_qf, art_qf], width=0.2, align=\"edge\")\n",
        "  bx.bar(x+0.1, [sport_qf_t_fixed, art_qf_t_fixed], width=0.2, align=\"edge\")\n",
        "  bx.bar(x+0.3, [sport_qf_max, art_qf_max], width=0.2, align=\"edge\")\n",
        "\n",
        "  bx.set_xticks(x)\n",
        "  bx.set_xticklabels(labels)\n",
        "  bx.legend([\"Tabular\", \"ALGO-QF\", \"ALGO-QF with T fixed\", \"ALGO-QF with max\"])\n",
        "  plt.title(f\"Class of recommendation done, {len(a)} recommendation, {TYPE} user\")\n",
        "else:\n",
        "  fig, bx = plt.subplots(figsize=(10,5))\n",
        "\n",
        "  bx.bar(x-0.1, [sport_t, art_t], width=0.4)\n",
        "  bx.bar(x+0.1, [sport_qf, art_qf], width=0.4, align=\"edge\")\n",
        "  \n",
        "  bx.set_xticks(x)\n",
        "  bx.set_xticklabels(labels)\n",
        "  bx.legend([\"Tabular\", \"ALGO-QF\"])\n",
        "  plt.title(f\"Class of recommendation done, 1 recommendation, {TYPE} user\")\n",
        "\n"
      ],
      "execution_count": null,
      "outputs": [
        {
          "output_type": "display_data",
          "data": {
            "image/png": "[encoded data removed]",
            "text/plain": [
              "<Figure size 720x360 with 1 Axes>"
            ]
          },
          "metadata": {
            "tags": [],
            "needs_background": "light"
          }
        }
      ]
    },
    {
      "cell_type": "markdown",
      "metadata": {
        "id": "jt95YNt8b83n"
      },
      "source": [
        "## Temperature Tuning"
      ]
    },
    {
      "cell_type": "markdown",
      "metadata": {
        "id": "UgKHgWbCeVBW"
      },
      "source": [
        ""
      ]
    },
    {
      "cell_type": "code",
      "metadata": {
        "id": "rrhEO4t_eVT4"
      },
      "source": [
        "n_actions = 50\n",
        "n_states = 50\n",
        "\n",
        "env_T = Environment(n_actions=n_actions, \n",
        "                  n_states=n_states, \n",
        "                  alpha=0.6, \n",
        "                  to_leave=0.1,\n",
        "                  n_recommended=7, \n",
        "                  n_cached=5, \n",
        "                  rewards=[2,1,1,0], \n",
        "                  SEED=77)\n",
        "\n",
        "#RL.plot_results(steps, all_costs)"
      ],
      "execution_count": null,
      "outputs": []
    },
    {
      "cell_type": "markdown",
      "metadata": {
        "id": "T8sJpz6ncKPC"
      },
      "source": [
        "### Normal ALGO-QF with temperature decay"
      ]
    },
    {
      "cell_type": "code",
      "metadata": {
        "id": "Bra_pNqWcDJ9"
      },
      "source": [
        "RL_QF_2_T = Agent_Multiple(n_actions=n_actions,\n",
        "                         n_states=n_states, \n",
        "                         alpha=0.6, \n",
        "                         gamma = 0.9, \n",
        "                         eps=1, \n",
        "                         n_recommended=2,\n",
        "                         delta=0.9,\n",
        "                         temperature=100,\n",
        "                         )\n",
        "\n",
        "time_train, episodes, steps, costs, all_rewards_n_T, all_penalties_n_T, all_f_n_T = update_T(env_T, \n",
        "                                                                                            RL_QF_2_T, \n",
        "                                                                                            max_iter = 100_000, \n",
        "                                                                                            threshold = -1,\n",
        "                                                                                            eps_decay=True,\n",
        "                                                                                            temp_decay=True,\n",
        "                                                                                            )\n",
        "\n",
        "print(\"Total number of episodes: \", episodes)\n",
        "RL_QF_2_T.plot_q_table()\n",
        "RL_QF_2_T.plot_f_table()"
      ],
      "execution_count": null,
      "outputs": []
    },
    {
      "cell_type": "markdown",
      "metadata": {
        "id": "A0sJUuy-cYR4"
      },
      "source": [
        "### Linear Temperature Decay"
      ]
    },
    {
      "cell_type": "code",
      "metadata": {
        "id": "9rP7N5pzcVPY"
      },
      "source": [
        "RL_QF_2_L = Agent_Multiple(n_actions=n_actions,\n",
        "                         n_states=n_states, \n",
        "                         alpha=0.6, \n",
        "                         gamma = 0.9, \n",
        "                         eps=1, \n",
        "                         n_recommended=2,\n",
        "                         delta=0.9,\n",
        "                         temperature=1000,\n",
        "                        #  custom = True\n",
        "                         )\n",
        "\n",
        "time_train, episodes, steps, costs, all_rewards_n_L, all_penalties_n_L, all_f_n_L = update_T(env_T, \n",
        "                                                                                            RL_QF_2_L, \n",
        "                                                                                            max_iter = 100_000, \n",
        "                                                                                            threshold = -1,\n",
        "                                                                                            eps_decay=True,\n",
        "                                                                                            temp_decay=True,\n",
        "                                                                                            )\n",
        "\n",
        "print(\"Total number of episodes: \", episodes)\n",
        "RL_QF_2_L.plot_q_table()\n",
        "RL_QF_2_L.plot_f_table()"
      ],
      "execution_count": null,
      "outputs": []
    },
    {
      "cell_type": "markdown",
      "metadata": {
        "id": "sUDmiygwmhqE"
      },
      "source": [
        "### Another Delta Value"
      ]
    },
    {
      "cell_type": "code",
      "metadata": {
        "id": "2BQX-6ASmt8U"
      },
      "source": [
        "RL_QF_2_A = Agent_Multiple(n_actions=n_actions,\n",
        "                         n_states=n_states, \n",
        "                         alpha=0.6, \n",
        "                         gamma = 0.9, \n",
        "                         eps=1, \n",
        "                         n_recommended=2,\n",
        "                         delta=0.9,\n",
        "                         temperature=10,\n",
        "                        #  custom = True\n",
        "                         )\n",
        "\n",
        "time_train, episodes, steps, costs, all_rewards_n_A, all_penalties_n_A, all_f_n_A = update_T(env_T, \n",
        "                                                                                            RL_QF_2_A, \n",
        "                                                                                            max_iter = 100_000, \n",
        "                                                                                            threshold = -1,\n",
        "                                                                                            eps_decay=True,\n",
        "                                                                                            temp_decay=True,\n",
        "                                                                                            )\n",
        "\n",
        "print(\"Total number of episodes: \", episodes)\n",
        "RL_QF_2_A.plot_q_table()\n",
        "RL_QF_2_A.plot_f_table()"
      ],
      "execution_count": null,
      "outputs": []
    },
    {
      "cell_type": "markdown",
      "metadata": {
        "id": "OUWBbYeRcgQL"
      },
      "source": [
        "### Plot Comparison"
      ]
    },
    {
      "cell_type": "code",
      "metadata": {
        "id": "Dut6uZG0cglT"
      },
      "source": [
        "smoothed_rews = running_mean(all_rewards_n_T, 5_000)\n",
        "plt.plot(smoothed_rews, label=\"T_0 = 100\")\n",
        "\n",
        "smoothed_rews = running_mean(all_rewards_n_L, 5_000)\n",
        "plt.plot(smoothed_rews, label=\"T_0 = 1000\")\n",
        "\n",
        "smoothed_rews = running_mean(all_rewards_n_A, 5_000)\n",
        "plt.plot(smoothed_rews, label=\"T_0 = 10\")\n",
        "\n",
        "\n",
        "plt.legend()\n",
        "plt.title(\"Comparison of ALGO-QF for Different Starting Temperatures, Delta=0.9\")\n",
        "plt.grid(True)"
      ],
      "execution_count": null,
      "outputs": []
    },
    {
      "cell_type": "code",
      "metadata": {
        "id": "9xn1XULadvMR"
      },
      "source": [
        "RL_QF_2_A.T"
      ],
      "execution_count": null,
      "outputs": []
    }
  ]
}